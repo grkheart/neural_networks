{
 "cells": [
  {
   "cell_type": "code",
   "execution_count": 1,
   "id": "096ced1a",
   "metadata": {
    "_cell_guid": "b1076dfc-b9ad-4769-8c92-a6c4dae69d19",
    "_uuid": "8f2839f25d086af736a60e9eeb907d3b93b6e0e5",
    "execution": {
     "iopub.execute_input": "2023-01-20T12:09:17.638399Z",
     "iopub.status.busy": "2023-01-20T12:09:17.637856Z",
     "iopub.status.idle": "2023-01-20T12:09:17.651143Z",
     "shell.execute_reply": "2023-01-20T12:09:17.650218Z"
    },
    "papermill": {
     "duration": 0.023852,
     "end_time": "2023-01-20T12:09:17.653277",
     "exception": false,
     "start_time": "2023-01-20T12:09:17.629425",
     "status": "completed"
    },
    "tags": []
   },
   "outputs": [],
   "source": [
    "# This Python 3 environment comes with many helpful analytics libraries installed\n",
    "# It is defined by the kaggle/python Docker image: https://github.com/kaggle/docker-python\n",
    "# For example, here's several helpful packages to load\n",
    "\n",
    "import numpy as np # linear algebra\n",
    "import pandas as pd # data processing, CSV file I/O (e.g. pd.read_csv)\n",
    "\n",
    "# Input data files are available in the read-only \"../input/\" directory\n",
    "# For example, running this (by clicking run or pressing Shift+Enter) will list all files under the input directory\n",
    "\n",
    "import os\n",
    "for dirname, _, filenames in os.walk('/kaggle/input'):\n",
    "    for filename in filenames:\n",
    "        print(os.path.join(dirname, filename))\n",
    "\n",
    "# You can write up to 20GB to the current directory (/kaggle/working/) that gets preserved as output when you create a version using \"Save & Run All\" \n",
    "# You can also write temporary files to /kaggle/temp/, but they won't be saved outside of the current session"
   ]
  },
  {
   "cell_type": "markdown",
   "id": "c7ee8028",
   "metadata": {
    "papermill": {
     "duration": 0.005268,
     "end_time": "2023-01-20T12:09:17.663917",
     "exception": false,
     "start_time": "2023-01-20T12:09:17.658649",
     "status": "completed"
    },
    "tags": []
   },
   "source": [
    "# Урок 8. GAN\n",
    "\n",
    "## Домашнее задание\n",
    "\n",
    "Обучите нейронную сеть любой архитектуры которой не было на курсе, либо обучите нейронную сеть разобранной архитектуры, но на том датасете, которого не было на уроках. Сделайте анализ, того, что вам помогло в улучшения работы нейронной сети.\n",
    "* *вариант для 1) Обучите VAE на fashion_mnist\n",
    "* *вариант для 1) Обучите GAN на одном классе CIFAR\n",
    "* *вариант для 1) обучите классификатор на данных tfds (Kaggle, UCI)\n",
    "* *вариант для 1) обучите семантическую сегментацию на tfds (Kaggle, UCI)\n",
    "Сделайте краткий обзор какой-нибудь научной работы посвященной тому или иному алгоритму нейронных сетей, который не рассматривался на\n",
    "курсе. Проведите анализ: Чем отличается выбранная вами на рассмотрение архитектура нейронной сети от других архитектур? В чем плюсы и минусы данной архитектуры? Какие могут возникнуть трудности при применении данной архитектуры на практике?\n",
    "\n",
    "### Задание №1\n",
    "Обучение GAN на одном классе CIFAR\n"
   ]
  },
  {
   "cell_type": "markdown",
   "id": "8d38eefd",
   "metadata": {
    "papermill": {
     "duration": 0.005961,
     "end_time": "2023-01-20T12:09:17.675270",
     "exception": false,
     "start_time": "2023-01-20T12:09:17.669309",
     "status": "completed"
    },
    "tags": []
   },
   "source": [
    "### Подключение библиотек"
   ]
  },
  {
   "cell_type": "code",
   "execution_count": 2,
   "id": "d5a7d672",
   "metadata": {
    "execution": {
     "iopub.execute_input": "2023-01-20T12:09:17.688162Z",
     "iopub.status.busy": "2023-01-20T12:09:17.687800Z",
     "iopub.status.idle": "2023-01-20T12:09:23.833719Z",
     "shell.execute_reply": "2023-01-20T12:09:23.832645Z"
    },
    "papermill": {
     "duration": 6.155376,
     "end_time": "2023-01-20T12:09:23.836291",
     "exception": false,
     "start_time": "2023-01-20T12:09:17.680915",
     "status": "completed"
    },
    "tags": []
   },
   "outputs": [],
   "source": [
    "import tensorflow as tf\n",
    "from tensorflow import keras\n",
    "from tensorflow.keras import layers\n",
    "import numpy as np\n",
    "\n",
    "import os\n",
    "import matplotlib.pyplot as plt\n",
    "\n",
    "import tensorflow.keras as keras\n",
    "from tensorflow.keras.datasets import cifar10\n",
    "from tensorflow.keras.models import Sequential\n",
    "from tensorflow.keras.layers import Dense, Dropout, Activation, Flatten\n",
    "from tensorflow.keras.layers import Conv2D, MaxPooling2D"
   ]
  },
  {
   "cell_type": "markdown",
   "id": "eb1e8b13",
   "metadata": {
    "papermill": {
     "duration": 0.003869,
     "end_time": "2023-01-20T12:09:23.844380",
     "exception": false,
     "start_time": "2023-01-20T12:09:23.840511",
     "status": "completed"
    },
    "tags": []
   },
   "source": [
    "### Загрузка данных"
   ]
  },
  {
   "cell_type": "code",
   "execution_count": 3,
   "id": "f94a1318",
   "metadata": {
    "execution": {
     "iopub.execute_input": "2023-01-20T12:09:23.854312Z",
     "iopub.status.busy": "2023-01-20T12:09:23.853517Z",
     "iopub.status.idle": "2023-01-20T12:09:33.383724Z",
     "shell.execute_reply": "2023-01-20T12:09:33.382093Z"
    },
    "papermill": {
     "duration": 9.538218,
     "end_time": "2023-01-20T12:09:33.386462",
     "exception": false,
     "start_time": "2023-01-20T12:09:23.848244",
     "status": "completed"
    },
    "tags": []
   },
   "outputs": [
    {
     "name": "stdout",
     "output_type": "stream",
     "text": [
      "Downloading data from https://www.cs.toronto.edu/~kriz/cifar-10-python.tar.gz\n",
      "170500096/170498071 [==============================] - 2s 0us/step\n",
      "170508288/170498071 [==============================] - 2s 0us/step\n"
     ]
    },
    {
     "name": "stderr",
     "output_type": "stream",
     "text": [
      "2023-01-20 12:09:29.397686: I tensorflow/stream_executor/cuda/cuda_gpu_executor.cc:937] successful NUMA node read from SysFS had negative value (-1), but there must be at least one NUMA node, so returning NUMA node zero\n"
     ]
    },
    {
     "name": "stdout",
     "output_type": "stream",
     "text": [
      "all_digits shape: (30000, 32, 32, 1)\n"
     ]
    },
    {
     "name": "stderr",
     "output_type": "stream",
     "text": [
      "2023-01-20 12:09:29.398572: I tensorflow/stream_executor/cuda/cuda_gpu_executor.cc:937] successful NUMA node read from SysFS had negative value (-1), but there must be at least one NUMA node, so returning NUMA node zero\n",
      "2023-01-20 12:09:29.535648: I tensorflow/stream_executor/cuda/cuda_gpu_executor.cc:937] successful NUMA node read from SysFS had negative value (-1), but there must be at least one NUMA node, so returning NUMA node zero\n",
      "2023-01-20 12:09:29.536533: I tensorflow/stream_executor/cuda/cuda_gpu_executor.cc:937] successful NUMA node read from SysFS had negative value (-1), but there must be at least one NUMA node, so returning NUMA node zero\n",
      "2023-01-20 12:09:29.537336: I tensorflow/stream_executor/cuda/cuda_gpu_executor.cc:937] successful NUMA node read from SysFS had negative value (-1), but there must be at least one NUMA node, so returning NUMA node zero\n",
      "2023-01-20 12:09:29.538068: I tensorflow/stream_executor/cuda/cuda_gpu_executor.cc:937] successful NUMA node read from SysFS had negative value (-1), but there must be at least one NUMA node, so returning NUMA node zero\n",
      "2023-01-20 12:09:29.542170: I tensorflow/core/platform/cpu_feature_guard.cc:142] This TensorFlow binary is optimized with oneAPI Deep Neural Network Library (oneDNN) to use the following CPU instructions in performance-critical operations:  AVX2 AVX512F FMA\n",
      "To enable them in other operations, rebuild TensorFlow with the appropriate compiler flags.\n",
      "2023-01-20 12:09:29.781216: I tensorflow/stream_executor/cuda/cuda_gpu_executor.cc:937] successful NUMA node read from SysFS had negative value (-1), but there must be at least one NUMA node, so returning NUMA node zero\n",
      "2023-01-20 12:09:29.782429: I tensorflow/stream_executor/cuda/cuda_gpu_executor.cc:937] successful NUMA node read from SysFS had negative value (-1), but there must be at least one NUMA node, so returning NUMA node zero\n",
      "2023-01-20 12:09:29.783321: I tensorflow/stream_executor/cuda/cuda_gpu_executor.cc:937] successful NUMA node read from SysFS had negative value (-1), but there must be at least one NUMA node, so returning NUMA node zero\n",
      "2023-01-20 12:09:29.784131: I tensorflow/stream_executor/cuda/cuda_gpu_executor.cc:937] successful NUMA node read from SysFS had negative value (-1), but there must be at least one NUMA node, so returning NUMA node zero\n",
      "2023-01-20 12:09:29.784935: I tensorflow/stream_executor/cuda/cuda_gpu_executor.cc:937] successful NUMA node read from SysFS had negative value (-1), but there must be at least one NUMA node, so returning NUMA node zero\n",
      "2023-01-20 12:09:29.785689: I tensorflow/stream_executor/cuda/cuda_gpu_executor.cc:937] successful NUMA node read from SysFS had negative value (-1), but there must be at least one NUMA node, so returning NUMA node zero\n",
      "2023-01-20 12:09:32.750848: I tensorflow/stream_executor/cuda/cuda_gpu_executor.cc:937] successful NUMA node read from SysFS had negative value (-1), but there must be at least one NUMA node, so returning NUMA node zero\n",
      "2023-01-20 12:09:32.751841: I tensorflow/stream_executor/cuda/cuda_gpu_executor.cc:937] successful NUMA node read from SysFS had negative value (-1), but there must be at least one NUMA node, so returning NUMA node zero\n",
      "2023-01-20 12:09:32.752685: I tensorflow/stream_executor/cuda/cuda_gpu_executor.cc:937] successful NUMA node read from SysFS had negative value (-1), but there must be at least one NUMA node, so returning NUMA node zero\n",
      "2023-01-20 12:09:32.753532: I tensorflow/stream_executor/cuda/cuda_gpu_executor.cc:937] successful NUMA node read from SysFS had negative value (-1), but there must be at least one NUMA node, so returning NUMA node zero\n",
      "2023-01-20 12:09:32.754317: I tensorflow/stream_executor/cuda/cuda_gpu_executor.cc:937] successful NUMA node read from SysFS had negative value (-1), but there must be at least one NUMA node, so returning NUMA node zero\n",
      "2023-01-20 12:09:32.755052: I tensorflow/core/common_runtime/gpu/gpu_device.cc:1510] Created device /job:localhost/replica:0/task:0/device:GPU:0 with 13789 MB memory:  -> device: 0, name: Tesla T4, pci bus id: 0000:00:04.0, compute capability: 7.5\n",
      "2023-01-20 12:09:32.758455: I tensorflow/stream_executor/cuda/cuda_gpu_executor.cc:937] successful NUMA node read from SysFS had negative value (-1), but there must be at least one NUMA node, so returning NUMA node zero\n",
      "2023-01-20 12:09:32.759249: I tensorflow/core/common_runtime/gpu/gpu_device.cc:1510] Created device /job:localhost/replica:0/task:0/device:GPU:1 with 13789 MB memory:  -> device: 1, name: Tesla T4, pci bus id: 0000:00:05.0, compute capability: 7.5\n"
     ]
    }
   ],
   "source": [
    "(x_train, y_train), (x_test, y_test) = cifar10.load_data()\n",
    "\n",
    "class_num = 0\n",
    "batch_size = 32\n",
    "indices_train = np.where(y_train == class_num)\n",
    "indices_test = np.where(y_test == class_num)\n",
    "\n",
    "all_digits = np.concatenate([x_train, x_test])\n",
    "all_digits = all_digits.astype(\"float32\") / 255\n",
    "indices_train = np.where(y_train == class_num)\n",
    "indices_test = np.where(y_test == class_num)\n",
    "all_digits = all_digits[indices_train,:,:]\n",
    "all_digits = np.reshape(all_digits, (-1, 32, 32, 1))\n",
    "dataset = tf.data.Dataset.from_tensor_slices(all_digits)\n",
    "dataset = dataset.shuffle(buffer_size=1024).batch(batch_size).prefetch(32)\n",
    "\n",
    "print('all_digits shape:', all_digits.shape)"
   ]
  },
  {
   "cell_type": "markdown",
   "id": "0ec62fc5",
   "metadata": {
    "papermill": {
     "duration": 0.00671,
     "end_time": "2023-01-20T12:09:33.401426",
     "exception": false,
     "start_time": "2023-01-20T12:09:33.394716",
     "status": "completed"
    },
    "tags": []
   },
   "source": [
    "### Построение модели"
   ]
  },
  {
   "cell_type": "code",
   "execution_count": 4,
   "id": "4a07cb10",
   "metadata": {
    "execution": {
     "iopub.execute_input": "2023-01-20T12:09:33.417824Z",
     "iopub.status.busy": "2023-01-20T12:09:33.417397Z",
     "iopub.status.idle": "2023-01-20T12:09:33.521385Z",
     "shell.execute_reply": "2023-01-20T12:09:33.520190Z"
    },
    "papermill": {
     "duration": 0.11606,
     "end_time": "2023-01-20T12:09:33.524331",
     "exception": false,
     "start_time": "2023-01-20T12:09:33.408271",
     "status": "completed"
    },
    "tags": []
   },
   "outputs": [
    {
     "name": "stdout",
     "output_type": "stream",
     "text": [
      "Model: \"discriminator\"\n",
      "_________________________________________________________________\n",
      "Layer (type)                 Output Shape              Param #   \n",
      "=================================================================\n",
      "conv2d (Conv2D)              (None, 16, 16, 64)        640       \n",
      "_________________________________________________________________\n",
      "leaky_re_lu (LeakyReLU)      (None, 16, 16, 64)        0         \n",
      "_________________________________________________________________\n",
      "conv2d_1 (Conv2D)            (None, 8, 8, 128)         73856     \n",
      "_________________________________________________________________\n",
      "leaky_re_lu_1 (LeakyReLU)    (None, 8, 8, 128)         0         \n",
      "_________________________________________________________________\n",
      "global_max_pooling2d (Global (None, 128)               0         \n",
      "_________________________________________________________________\n",
      "dense (Dense)                (None, 1)                 129       \n",
      "=================================================================\n",
      "Total params: 74,625\n",
      "Trainable params: 74,625\n",
      "Non-trainable params: 0\n",
      "_________________________________________________________________\n"
     ]
    }
   ],
   "source": [
    "discriminator = keras.Sequential(\n",
    "    [\n",
    "        keras.Input(shape=(32, 32, 1)),\n",
    "        layers.Conv2D(64, (3, 3), strides=(2, 2), padding='same'),\n",
    "        layers.LeakyReLU(alpha=0.2),\n",
    "        layers.Conv2D(128, (3, 3), strides=(2, 2), padding='same'),\n",
    "        layers.LeakyReLU(alpha=0.2),\n",
    "        layers.GlobalMaxPooling2D(),\n",
    "        layers.Dense(1),\n",
    "    ],\n",
    "    name=\"discriminator\",\n",
    ")\n",
    "\n",
    "discriminator.summary()"
   ]
  },
  {
   "cell_type": "code",
   "execution_count": 5,
   "id": "f13f7dec",
   "metadata": {
    "execution": {
     "iopub.execute_input": "2023-01-20T12:09:33.542139Z",
     "iopub.status.busy": "2023-01-20T12:09:33.541750Z",
     "iopub.status.idle": "2023-01-20T12:09:33.617428Z",
     "shell.execute_reply": "2023-01-20T12:09:33.613540Z"
    },
    "papermill": {
     "duration": 0.086793,
     "end_time": "2023-01-20T12:09:33.620137",
     "exception": false,
     "start_time": "2023-01-20T12:09:33.533344",
     "status": "completed"
    },
    "tags": []
   },
   "outputs": [
    {
     "name": "stdout",
     "output_type": "stream",
     "text": [
      "Model: \"generator\"\n",
      "_________________________________________________________________\n",
      "Layer (type)                 Output Shape              Param #   \n",
      "=================================================================\n",
      "dense_1 (Dense)              (None, 65536)             4259840   \n",
      "_________________________________________________________________\n",
      "leaky_re_lu_2 (LeakyReLU)    (None, 65536)             0         \n",
      "_________________________________________________________________\n",
      "reshape (Reshape)            (None, 32, 32, 64)        0         \n",
      "_________________________________________________________________\n",
      "conv2d_transpose (Conv2DTran (None, 32, 32, 64)        36928     \n",
      "_________________________________________________________________\n",
      "leaky_re_lu_3 (LeakyReLU)    (None, 32, 32, 64)        0         \n",
      "_________________________________________________________________\n",
      "conv2d_transpose_1 (Conv2DTr (None, 32, 32, 256)       147712    \n",
      "_________________________________________________________________\n",
      "leaky_re_lu_4 (LeakyReLU)    (None, 32, 32, 256)       0         \n",
      "_________________________________________________________________\n",
      "conv2d_2 (Conv2D)            (None, 32, 32, 1)         262145    \n",
      "=================================================================\n",
      "Total params: 4,706,625\n",
      "Trainable params: 4,706,625\n",
      "Non-trainable params: 0\n",
      "_________________________________________________________________\n"
     ]
    }
   ],
   "source": [
    "latent_dim = 64\n",
    "\n",
    "generator = keras.Sequential(\n",
    "    [\n",
    "        keras.Input(shape=(latent_dim,)),\n",
    "        layers.Dense(32 * 32 * 64),\n",
    "        layers.LeakyReLU(alpha=0.2),\n",
    "        layers.Reshape((32, 32, 64)),\n",
    "        layers.Conv2DTranspose(64, (3, 3), padding=\"same\"),\n",
    "        layers.LeakyReLU(alpha=0.2),\n",
    "        layers.Conv2DTranspose(256, (3, 3), padding=\"same\"),\n",
    "        layers.LeakyReLU(alpha=0.2),\n",
    "        layers.Conv2D(1, (32, 32), padding=\"same\", activation=\"sigmoid\"),\n",
    "    ],\n",
    "    name=\"generator\",\n",
    ")\n",
    "\n",
    "generator.summary()"
   ]
  },
  {
   "cell_type": "code",
   "execution_count": 6,
   "id": "d8599bb4",
   "metadata": {
    "execution": {
     "iopub.execute_input": "2023-01-20T12:09:33.636017Z",
     "iopub.status.busy": "2023-01-20T12:09:33.635651Z",
     "iopub.status.idle": "2023-01-20T12:09:33.652007Z",
     "shell.execute_reply": "2023-01-20T12:09:33.650994Z"
    },
    "papermill": {
     "duration": 0.02695,
     "end_time": "2023-01-20T12:09:33.654421",
     "exception": false,
     "start_time": "2023-01-20T12:09:33.627471",
     "status": "completed"
    },
    "tags": []
   },
   "outputs": [],
   "source": [
    "class GAN(keras.Model):\n",
    "    def __init__(self, discriminator, generator, latent_dim):\n",
    "        super(GAN, self).__init__()\n",
    "        self.discriminator = discriminator\n",
    "        self.generator = generator\n",
    "        self.latent_dim = latent_dim\n",
    "\n",
    "    def compile(self, d_optimizer, g_optimizer, loss_fn):\n",
    "        super(GAN, self).compile()\n",
    "        self.d_optimizer = d_optimizer\n",
    "        self.g_optimizer = g_optimizer\n",
    "        self.loss_fn = loss_fn\n",
    "\n",
    "    def train_step(self, real_images):\n",
    "        if isinstance(real_images, tuple):\n",
    "            real_images = real_images[0]\n",
    "        # берем случайный пример из скрытого пространства\n",
    "        batch_size = tf.shape(real_images)[0]\n",
    "        random_latent_vectors = tf.random.normal(shape=(batch_size, self.latent_dim))\n",
    "\n",
    "        # строим по нему фейковое изображение\n",
    "        generated_images = self.generator(random_latent_vectors)\n",
    "\n",
    "        # собрали с реальным изображением в тензор\n",
    "        combined_images = tf.concat([generated_images, real_images], axis=0)\n",
    "\n",
    "        # задаем метки 1 и 0 соответственно\n",
    "        labels = tf.concat(\n",
    "            [tf.ones((batch_size, 1)), tf.zeros((batch_size, 1))], axis=0\n",
    "        )\n",
    "        # добавляем шум\n",
    "        labels += 0.05 * tf.random.uniform(tf.shape(labels))\n",
    "\n",
    "        # обучаем discriminator\n",
    "        with tf.GradientTape() as tape:\n",
    "            predictions = self.discriminator(combined_images)\n",
    "            d_loss = self.loss_fn(labels, predictions)\n",
    "        grads = tape.gradient(d_loss, self.discriminator.trainable_weights)\n",
    "        self.d_optimizer.apply_gradients(\n",
    "            zip(grads, self.discriminator.trainable_weights)\n",
    "        )\n",
    "\n",
    "        #выбрали случайный пример в скрытом пространстве\n",
    "        random_latent_vectors = tf.random.normal(shape=(batch_size, self.latent_dim))\n",
    "\n",
    "        # собрали метки реальных изображений\n",
    "        misleading_labels = tf.zeros((batch_size, 1))\n",
    "\n",
    "        # обучаем generator\n",
    "        with tf.GradientTape() as tape:\n",
    "            predictions = self.discriminator(self.generator(random_latent_vectors))\n",
    "            g_loss = self.loss_fn(misleading_labels, predictions)\n",
    "        grads = tape.gradient(g_loss, self.generator.trainable_weights)\n",
    "        self.g_optimizer.apply_gradients(zip(grads, self.generator.trainable_weights))\n",
    "        return {\"d_loss\": d_loss, \"g_loss\": g_loss}"
   ]
  },
  {
   "cell_type": "code",
   "execution_count": 7,
   "id": "6996a111",
   "metadata": {
    "execution": {
     "iopub.execute_input": "2023-01-20T12:09:33.671563Z",
     "iopub.status.busy": "2023-01-20T12:09:33.670679Z",
     "iopub.status.idle": "2023-01-20T12:09:33.678898Z",
     "shell.execute_reply": "2023-01-20T12:09:33.677707Z"
    },
    "papermill": {
     "duration": 0.019971,
     "end_time": "2023-01-20T12:09:33.681689",
     "exception": false,
     "start_time": "2023-01-20T12:09:33.661718",
     "status": "completed"
    },
    "tags": []
   },
   "outputs": [],
   "source": [
    "class GANMonitor(keras.callbacks.Callback):\n",
    "    def __init__(self, num_img=3, latent_dim=64):\n",
    "        self.num_img = num_img\n",
    "        self.latent_dim = latent_dim\n",
    "\n",
    "    def on_epoch_end(self, epoch, logs=None):\n",
    "        random_latent_vectors = tf.random.normal(shape=(self.num_img, self.latent_dim))\n",
    "        generated_images = self.model.generator(random_latent_vectors)\n",
    "        generated_images *= 255\n",
    "        generated_images.numpy()\n",
    "        for i in range(self.num_img):\n",
    "            img = keras.preprocessing.image.array_to_img(generated_images[i])\n",
    "            img.save(\"generated_img_{i}_{epoch}.png\".format(i=i, epoch=epoch))\n"
   ]
  },
  {
   "cell_type": "markdown",
   "id": "e50ba72e",
   "metadata": {
    "papermill": {
     "duration": 0.006472,
     "end_time": "2023-01-20T12:09:33.694844",
     "exception": false,
     "start_time": "2023-01-20T12:09:33.688372",
     "status": "completed"
    },
    "tags": []
   },
   "source": [
    "### Обучение модели"
   ]
  },
  {
   "cell_type": "code",
   "execution_count": 8,
   "id": "e9043c5a",
   "metadata": {
    "execution": {
     "iopub.execute_input": "2023-01-20T12:09:33.710468Z",
     "iopub.status.busy": "2023-01-20T12:09:33.710129Z",
     "iopub.status.idle": "2023-01-20T12:24:12.604988Z",
     "shell.execute_reply": "2023-01-20T12:24:12.603920Z"
    },
    "papermill": {
     "duration": 878.906098,
     "end_time": "2023-01-20T12:24:12.607349",
     "exception": false,
     "start_time": "2023-01-20T12:09:33.701251",
     "status": "completed"
    },
    "tags": []
   },
   "outputs": [
    {
     "name": "stdout",
     "output_type": "stream",
     "text": [
      "Epoch 1/25\n"
     ]
    },
    {
     "name": "stderr",
     "output_type": "stream",
     "text": [
      "2023-01-20 12:09:34.983112: I tensorflow/compiler/mlir/mlir_graph_optimization_pass.cc:185] None of the MLIR Optimization Passes are enabled (registered 2)\n",
      "2023-01-20 12:09:37.837412: I tensorflow/stream_executor/cuda/cuda_dnn.cc:369] Loaded cuDNN version 8005\n"
     ]
    },
    {
     "name": "stdout",
     "output_type": "stream",
     "text": [
      "938/938 [==============================] - 44s 32ms/step - d_loss: 0.5540 - g_loss: 0.8544\n",
      "Epoch 2/25\n",
      "938/938 [==============================] - 28s 30ms/step - d_loss: 0.4139 - g_loss: 1.3916\n",
      "Epoch 3/25\n",
      "938/938 [==============================] - 28s 30ms/step - d_loss: 0.2232 - g_loss: 2.5690\n",
      "Epoch 4/25\n",
      "938/938 [==============================] - 28s 30ms/step - d_loss: 0.2068 - g_loss: 2.2463\n",
      "Epoch 5/25\n",
      "938/938 [==============================] - 29s 31ms/step - d_loss: 0.6144 - g_loss: 0.9793\n",
      "Epoch 6/25\n",
      "938/938 [==============================] - 28s 30ms/step - d_loss: 0.6173 - g_loss: 0.8830\n",
      "Epoch 7/25\n",
      "938/938 [==============================] - 28s 30ms/step - d_loss: 0.5867 - g_loss: 0.9385\n",
      "Epoch 8/25\n",
      "938/938 [==============================] - 28s 30ms/step - d_loss: 0.6083 - g_loss: 0.9645\n",
      "Epoch 9/25\n",
      "938/938 [==============================] - 28s 30ms/step - d_loss: 0.6089 - g_loss: 0.9566\n",
      "Epoch 10/25\n",
      "938/938 [==============================] - 28s 30ms/step - d_loss: 0.6102 - g_loss: 0.9730\n",
      "Epoch 11/25\n",
      "938/938 [==============================] - 28s 30ms/step - d_loss: 0.6246 - g_loss: 0.9525\n",
      "Epoch 12/25\n",
      "938/938 [==============================] - 28s 30ms/step - d_loss: 0.6235 - g_loss: 0.9580\n",
      "Epoch 13/25\n",
      "938/938 [==============================] - 28s 30ms/step - d_loss: 0.6371 - g_loss: 0.9359\n",
      "Epoch 14/25\n",
      "938/938 [==============================] - 28s 30ms/step - d_loss: 0.6297 - g_loss: 0.9454\n",
      "Epoch 15/25\n",
      "938/938 [==============================] - 28s 30ms/step - d_loss: 0.6112 - g_loss: 0.9662\n",
      "Epoch 16/25\n",
      "938/938 [==============================] - 28s 30ms/step - d_loss: 0.6210 - g_loss: 0.9728\n",
      "Epoch 17/25\n",
      "938/938 [==============================] - 28s 30ms/step - d_loss: 0.6028 - g_loss: 1.0109\n",
      "Epoch 18/25\n",
      "938/938 [==============================] - 28s 30ms/step - d_loss: 0.5911 - g_loss: 1.0464\n",
      "Epoch 19/25\n",
      "938/938 [==============================] - 28s 30ms/step - d_loss: 0.5742 - g_loss: 1.1000\n",
      "Epoch 20/25\n",
      "938/938 [==============================] - 28s 30ms/step - d_loss: 0.5829 - g_loss: 1.0966\n",
      "Epoch 21/25\n",
      "938/938 [==============================] - 28s 30ms/step - d_loss: 0.6019 - g_loss: 1.0599\n",
      "Epoch 22/25\n",
      "938/938 [==============================] - 28s 30ms/step - d_loss: 0.5491 - g_loss: 1.1706\n",
      "Epoch 23/25\n",
      "938/938 [==============================] - 28s 30ms/step - d_loss: 0.5776 - g_loss: 1.1365\n",
      "Epoch 24/25\n",
      "938/938 [==============================] - 28s 30ms/step - d_loss: 0.4947 - g_loss: 1.4058\n",
      "Epoch 25/25\n",
      "938/938 [==============================] - 28s 30ms/step - d_loss: 0.5425 - g_loss: 1.2591\n"
     ]
    },
    {
     "data": {
      "text/plain": [
       "<keras.callbacks.History at 0x7fd55baeb890>"
      ]
     },
     "execution_count": 8,
     "metadata": {},
     "output_type": "execute_result"
    }
   ],
   "source": [
    "epochs = 25\n",
    "\n",
    "gan = GAN(discriminator=discriminator, generator=generator, latent_dim=latent_dim)\n",
    "gan.compile(\n",
    "    d_optimizer=keras.optimizers.SGD(),\n",
    "    g_optimizer=keras.optimizers.SGD(),\n",
    "    loss_fn=keras.losses.BinaryCrossentropy(from_logits=True),\n",
    ")\n",
    "\n",
    "gan.fit(\n",
    "    dataset, epochs=epochs, callbacks=[GANMonitor(num_img=3, latent_dim=latent_dim)]\n",
    ")"
   ]
  },
  {
   "cell_type": "code",
   "execution_count": 9,
   "id": "aceed2d4",
   "metadata": {
    "execution": {
     "iopub.execute_input": "2023-01-20T12:24:14.006501Z",
     "iopub.status.busy": "2023-01-20T12:24:14.006090Z",
     "iopub.status.idle": "2023-01-20T12:24:14.053209Z",
     "shell.execute_reply": "2023-01-20T12:24:14.052138Z"
    },
    "papermill": {
     "duration": 0.776289,
     "end_time": "2023-01-20T12:24:14.055723",
     "exception": false,
     "start_time": "2023-01-20T12:24:13.279434",
     "status": "completed"
    },
    "tags": []
   },
   "outputs": [
    {
     "data": {
      "image/png": "[encoded data removed]",
      "text/plain": [
       "<IPython.core.display.Image object>"
      ]
     },
     "metadata": {},
     "output_type": "display_data"
    },
    {
     "data": {
      "image/png": "[encoded data removed]",
      "text/plain": [
       "<IPython.core.display.Image object>"
      ]
     },
     "metadata": {},
     "output_type": "display_data"
    },
    {
     "data": {
      "image/png": "[encoded data removed]",
      "text/plain": [
       "<IPython.core.display.Image object>"
      ]
     },
     "metadata": {},
     "output_type": "display_data"
    },
    {
     "data": {
      "image/png": "[encoded data removed]",
      "text/plain": [
       "<IPython.core.display.Image object>"
      ]
     },
     "metadata": {},
     "output_type": "display_data"
    },
    {
     "data": {
      "image/png": "[encoded data removed]",
      "text/plain": [
       "<IPython.core.display.Image object>"
      ]
     },
     "metadata": {},
     "output_type": "display_data"
    },
    {
     "data": {
      "image/png": "[encoded data removed]",
      "text/plain": [
       "<IPython.core.display.Image object>"
      ]
     },
     "metadata": {},
     "output_type": "display_data"
    },
    {
     "data": {
      "image/png": "[encoded data removed]",
      "text/plain": [
       "<IPython.core.display.Image object>"
      ]
     },
     "metadata": {},
     "output_type": "display_data"
    },
    {
     "data": {
      "image/png": "[encoded data removed]",
      "text/plain": [
       "<IPython.core.display.Image object>"
      ]
     },
     "metadata": {},
     "output_type": "display_data"
    },
    {
     "data": {
      "image/png": "[encoded data removed]",
      "text/plain": [
       "<IPython.core.display.Image object>"
      ]
     },
     "metadata": {},
     "output_type": "display_data"
    },
    {
     "data": {
      "image/png": "[encoded data removed]",
      "text/plain": [
       "<IPython.core.display.Image object>"
      ]
     },
     "metadata": {},
     "output_type": "display_data"
    },
    {
     "data": {
      "image/png": "[encoded data removed]",
      "text/plain": [
       "<IPython.core.display.Image object>"
      ]
     },
     "metadata": {},
     "output_type": "display_data"
    },
    {
     "data": {
      "image/png": "[encoded data removed]",
      "text/plain": [
       "<IPython.core.display.Image object>"
      ]
     },
     "metadata": {},
     "output_type": "display_data"
    },
    {
     "data": {
      "image/png": "[encoded data removed]",
      "text/plain": [
       "<IPython.core.display.Image object>"
      ]
     },
     "metadata": {},
     "output_type": "display_data"
    },
    {
     "data": {
      "image/png": "[encoded data removed]",
      "text/plain": [
       "<IPython.core.display.Image object>"
      ]
     },
     "metadata": {},
     "output_type": "display_data"
    },
    {
     "data": {
      "image/png": "[encoded data removed]",
      "text/plain": [
       "<IPython.core.display.Image object>"
      ]
     },
     "metadata": {},
     "output_type": "display_data"
    },
    {
     "data": {
      "image/png": "[encoded data removed]",
      "text/plain": [
       "<IPython.core.display.Image object>"
      ]
     },
     "metadata": {},
     "output_type": "display_data"
    },
    {
     "data": {
      "image/png": "[encoded data removed]",
      "text/plain": [
       "<IPython.core.display.Image object>"
      ]
     },
     "metadata": {},
     "output_type": "display_data"
    },
    {
     "data": {
      "image/png": "[encoded data removed]",
      "text/plain": [
       "<IPython.core.display.Image object>"
      ]
     },
     "metadata": {},
     "output_type": "display_data"
    },
    {
     "data": {
      "image/png": "[encoded data removed]",
      "text/plain": [
       "<IPython.core.display.Image object>"
      ]
     },
     "metadata": {},
     "output_type": "display_data"
    }
   ],
   "source": [
    "from IPython.display import Image, display\n",
    "\n",
    "for i in range(1,20):\n",
    "  display(Image(\"generated_img_0_\"+str(i)+\".png\"))"
   ]
  },
  {
   "cell_type": "markdown",
   "id": "140a2440",
   "metadata": {
    "papermill": {
     "duration": 0.773072,
     "end_time": "2023-01-20T12:24:15.494906",
     "exception": false,
     "start_time": "2023-01-20T12:24:14.721834",
     "status": "completed"
    },
    "tags": []
   },
   "source": [
    "### Вывод\n",
    "В улучшении работы сети помогли следующие параметры: latent_dim равный 64, 25 эпох, оптимизатор SGD"
   ]
  },
  {
   "cell_type": "markdown",
   "id": "1143f056",
   "metadata": {
    "papermill": {
     "duration": 0.708194,
     "end_time": "2023-01-20T12:24:16.868126",
     "exception": false,
     "start_time": "2023-01-20T12:24:16.159932",
     "status": "completed"
    },
    "tags": []
   },
   "source": [
    "### Задание 2\n",
    "Modeling Long- and Short-Term Temporal Patterns with Deep Neural Networks\n",
    "\n",
    "https://arxiv.org/pdf/1703.07015.pdf\n",
    "\n",
    "Рекурентная модель с пропуском слоя, которая настроена так, чтобы учитывать переодичность данных. Оказалось, что во многих временных рядах есть ситуации, которые плохо моделируются нелинейными моделями глубокого обучения. В статье приводится описание адаптации архитектуры с помощью традиционной линейной модели - авторегрессии (AR). Итоговая модель LSTNet, комбинировала выходы модели AR и модели с обычным рекурентным слоем и параллельным пропуском рекурентного слоя.\n",
    "\n",
    "Выходные данные сверточного слоя передаются recurent-skip компоненту. Закрытый рекуррентный нейрон разворачивается через q временных шагов. Выходы от развернутых нейронов, разделенных заранее заданным временным интервалом (сезонным периодом), позже используются в сети. На практике рекурентные нейроны не фиксируют долгосрочные зависимости. При прогнозировании потребления электроэнергии измерения за предыдущий день могут быть очень полезными предикторами. Введя пропуск подключений с интервалом в 24 часа, авторы гарантируют, что модель может использовать эти исторические зависимости."
   ]
  }
 ],
 "metadata": {
  "kernelspec": {
   "display_name": "Python 3",
   "language": "python",
   "name": "python3"
  },
  "language_info": {
   "codemirror_mode": {
    "name": "ipython",
    "version": 3
   },
   "file_extension": ".py",
   "mimetype": "text/x-python",
   "name": "python",
   "nbconvert_exporter": "python",
   "pygments_lexer": "ipython3",
   "version": "3.7.12"
  },
  "papermill": {
   "default_parameters": {},
   "duration": 912.361268,
   "end_time": "2023-01-20T12:24:21.274828",
   "environment_variables": {},
   "exception": null,
   "input_path": "__notebook__.ipynb",
   "output_path": "__notebook__.ipynb",
   "parameters": {},
   "start_time": "2023-01-20T12:09:08.913560",
   "version": "2.3.4"
  }
 },
 "nbformat": 4,
 "nbformat_minor": 5
}
