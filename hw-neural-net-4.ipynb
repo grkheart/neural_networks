{
 "cells": [
  {
   "cell_type": "code",
   "execution_count": 1,
   "id": "59bfbefe",
   "metadata": {
    "_cell_guid": "b1076dfc-b9ad-4769-8c92-a6c4dae69d19",
    "_uuid": "8f2839f25d086af736a60e9eeb907d3b93b6e0e5",
    "execution": {
     "iopub.execute_input": "2022-11-29T12:10:06.375415Z",
     "iopub.status.busy": "2022-11-29T12:10:06.374928Z",
     "iopub.status.idle": "2022-11-29T12:10:06.387282Z",
     "shell.execute_reply": "2022-11-29T12:10:06.386432Z"
    },
    "papermill": {
     "duration": 0.02551,
     "end_time": "2022-11-29T12:10:06.389396",
     "exception": false,
     "start_time": "2022-11-29T12:10:06.363886",
     "status": "completed"
    },
    "tags": []
   },
   "outputs": [],
   "source": [
    "# This Python 3 environment comes with many helpful analytics libraries installed\n",
    "# It is defined by the kaggle/python Docker image: https://github.com/kaggle/docker-python\n",
    "# For example, here's several helpful packages to load\n",
    "\n",
    "import numpy as np # linear algebra\n",
    "import pandas as pd # data processing, CSV file I/O (e.g. pd.read_csv)\n",
    "\n",
    "# Input data files are available in the read-only \"../input/\" directory\n",
    "# For example, running this (by clicking run or pressing Shift+Enter) will list all files under the input directory\n",
    "\n",
    "import os\n",
    "for dirname, _, filenames in os.walk('/kaggle/input'):\n",
    "    for filename in filenames:\n",
    "        print(os.path.join(dirname, filename))\n",
    "\n",
    "# You can write up to 20GB to the current directory (/kaggle/working/) that gets preserved as output when you create a version using \"Save & Run All\" \n",
    "# You can also write temporary files to /kaggle/temp/, but they won't be saved outside of the current session"
   ]
  },
  {
   "cell_type": "markdown",
   "id": "69180421",
   "metadata": {
    "papermill": {
     "duration": 0.005401,
     "end_time": "2022-11-29T12:10:06.400513",
     "exception": false,
     "start_time": "2022-11-29T12:10:06.395112",
     "status": "completed"
    },
    "tags": []
   },
   "source": [
    "### Домашнее задание\n",
    "\n",
    "1. обучить рукописную сверточную нейронную сеть (с падением размера ядра свертки и последовательностью блоков свертка-пулинг (conv-pool)-(conv-pool)-...) на датасете cifar-10\n",
    "2. оценить рост точности при увеличении ширины сети (больше фильтров)\n",
    "3. оценить рост точности при увеличении глубины сети (больше слоев)\n",
    "4. *сравнить с точностью полносвязной сети для этой выборки"
   ]
  },
  {
   "cell_type": "code",
   "execution_count": 2,
   "id": "6ec20ca6",
   "metadata": {
    "execution": {
     "iopub.execute_input": "2022-11-29T12:10:06.412791Z",
     "iopub.status.busy": "2022-11-29T12:10:06.412533Z",
     "iopub.status.idle": "2022-11-29T12:10:11.790582Z",
     "shell.execute_reply": "2022-11-29T12:10:11.789599Z"
    },
    "papermill": {
     "duration": 5.38699,
     "end_time": "2022-11-29T12:10:11.792969",
     "exception": false,
     "start_time": "2022-11-29T12:10:06.405979",
     "status": "completed"
    },
    "tags": []
   },
   "outputs": [],
   "source": [
    "import numpy as np\n",
    "import pandas as pd\n",
    "import tensorflow as tf\n",
    "import matplotlib.pyplot as plt\n",
    "\n",
    "from tensorflow.keras.models import Sequential, Model\n",
    "from tensorflow.keras.layers import Conv2D, Input\n",
    "from tensorflow.keras.layers import GlobalMaxPooling2D, MaxPooling2D, AveragePooling2D, GlobalAveragePooling2D\n",
    "from tensorflow.keras.datasets import cifar10\n",
    "from tensorflow.keras.preprocessing.image import ImageDataGenerator\n",
    "from tensorflow.keras.utils import to_categorical\n",
    "from tensorflow.keras.layers import Dense, Dropout, Activation, Flatten\n",
    "\n",
    "import os"
   ]
  },
  {
   "cell_type": "code",
   "execution_count": 3,
   "id": "df00880c",
   "metadata": {
    "execution": {
     "iopub.execute_input": "2022-11-29T12:10:11.806990Z",
     "iopub.status.busy": "2022-11-29T12:10:11.806487Z",
     "iopub.status.idle": "2022-11-29T12:10:11.812058Z",
     "shell.execute_reply": "2022-11-29T12:10:11.811210Z"
    },
    "papermill": {
     "duration": 0.014829,
     "end_time": "2022-11-29T12:10:11.814059",
     "exception": false,
     "start_time": "2022-11-29T12:10:11.799230",
     "status": "completed"
    },
    "tags": []
   },
   "outputs": [],
   "source": [
    "tf.random.set_seed(1)"
   ]
  },
  {
   "cell_type": "code",
   "execution_count": 4,
   "id": "f19a6e51",
   "metadata": {
    "execution": {
     "iopub.execute_input": "2022-11-29T12:10:11.826521Z",
     "iopub.status.busy": "2022-11-29T12:10:11.826250Z",
     "iopub.status.idle": "2022-11-29T12:10:12.035353Z",
     "shell.execute_reply": "2022-11-29T12:10:12.034093Z"
    },
    "papermill": {
     "duration": 0.218194,
     "end_time": "2022-11-29T12:10:12.037858",
     "exception": false,
     "start_time": "2022-11-29T12:10:11.819664",
     "status": "completed"
    },
    "tags": []
   },
   "outputs": [
    {
     "name": "stderr",
     "output_type": "stream",
     "text": [
      "2022-11-29 12:10:11.893437: I tensorflow/stream_executor/cuda/cuda_gpu_executor.cc:937] successful NUMA node read from SysFS had negative value (-1), but there must be at least one NUMA node, so returning NUMA node zero\n",
      "2022-11-29 12:10:12.018439: I tensorflow/stream_executor/cuda/cuda_gpu_executor.cc:937] successful NUMA node read from SysFS had negative value (-1), but there must be at least one NUMA node, so returning NUMA node zero\n",
      "2022-11-29 12:10:12.019195: I tensorflow/stream_executor/cuda/cuda_gpu_executor.cc:937] successful NUMA node read from SysFS had negative value (-1), but there must be at least one NUMA node, so returning NUMA node zero\n"
     ]
    },
    {
     "data": {
      "text/plain": [
       "[PhysicalDevice(name='/physical_device:GPU:0', device_type='GPU')]"
      ]
     },
     "execution_count": 4,
     "metadata": {},
     "output_type": "execute_result"
    }
   ],
   "source": [
    "tf.config.list_physical_devices('GPU')"
   ]
  },
  {
   "cell_type": "code",
   "execution_count": 5,
   "id": "797f4a23",
   "metadata": {
    "execution": {
     "iopub.execute_input": "2022-11-29T12:10:12.051368Z",
     "iopub.status.busy": "2022-11-29T12:10:12.050484Z",
     "iopub.status.idle": "2022-11-29T12:10:12.057954Z",
     "shell.execute_reply": "2022-11-29T12:10:12.057118Z"
    },
    "papermill": {
     "duration": 0.016207,
     "end_time": "2022-11-29T12:10:12.059902",
     "exception": false,
     "start_time": "2022-11-29T12:10:12.043695",
     "status": "completed"
    },
    "tags": []
   },
   "outputs": [],
   "source": [
    "results = pd.DataFrame() # сводная таблица результатов\n",
    "step = [] # шаг\n",
    "desc = [] # описание\n",
    "train_acc = [] # результат на трейне\n",
    "test_acc = [] # результат на тесте"
   ]
  },
  {
   "cell_type": "code",
   "execution_count": 6,
   "id": "b4595807",
   "metadata": {
    "execution": {
     "iopub.execute_input": "2022-11-29T12:10:12.072538Z",
     "iopub.status.busy": "2022-11-29T12:10:12.071876Z",
     "iopub.status.idle": "2022-11-29T12:10:21.974730Z",
     "shell.execute_reply": "2022-11-29T12:10:21.973712Z"
    },
    "papermill": {
     "duration": 9.91169,
     "end_time": "2022-11-29T12:10:21.977150",
     "exception": false,
     "start_time": "2022-11-29T12:10:12.065460",
     "status": "completed"
    },
    "tags": []
   },
   "outputs": [
    {
     "name": "stdout",
     "output_type": "stream",
     "text": [
      "Downloading data from https://www.cs.toronto.edu/~kriz/cifar-10-python.tar.gz\n",
      "170500096/170498071 [==============================] - 6s 0us/step\n",
      "170508288/170498071 [==============================] - 6s 0us/step\n",
      "X_train shape: (50000, 32, 32, 3)\n",
      "50000 тренировочные примеры\n",
      "10000 тестовые примеры\n"
     ]
    }
   ],
   "source": [
    "# установка параметров нейросети\n",
    "batch_size = 64\n",
    "num_classes = 10\n",
    "epochs = 10\n",
    "\n",
    "# разделение тренировочной и тестовой выборки\n",
    "(X_train, y_train), (X_test, y_test) = cifar10.load_data()\n",
    "print('X_train shape:', X_train.shape)\n",
    "print(X_train.shape[0], 'тренировочные примеры')\n",
    "print(X_test.shape[0], 'тестовые примеры')\n",
    "\n",
    "# преобразование матрицы чисел 0-9 в бинарную матрицу чисел 0-1\n",
    "y_train = to_categorical(y_train, num_classes)\n",
    "y_test = to_categorical(y_test, num_classes)\n",
    "\n",
    "\n",
    "X_train = X_train / 255.0\n",
    "X_test = X_test / 255.0"
   ]
  },
  {
   "cell_type": "code",
   "execution_count": 7,
   "id": "a2497112",
   "metadata": {
    "execution": {
     "iopub.execute_input": "2022-11-29T12:10:22.003847Z",
     "iopub.status.busy": "2022-11-29T12:10:22.003519Z",
     "iopub.status.idle": "2022-11-29T12:10:22.008200Z",
     "shell.execute_reply": "2022-11-29T12:10:22.007195Z"
    },
    "papermill": {
     "duration": 0.019766,
     "end_time": "2022-11-29T12:10:22.010349",
     "exception": false,
     "start_time": "2022-11-29T12:10:21.990583",
     "status": "completed"
    },
    "tags": []
   },
   "outputs": [],
   "source": [
    "classes = ['самолет', 'автомобиль', 'птица', 'кот', 'олень', 'собака', 'лягушка', 'лошадь', 'корабль', 'грузовик']"
   ]
  },
  {
   "cell_type": "code",
   "execution_count": 8,
   "id": "b7740ac8",
   "metadata": {
    "execution": {
     "iopub.execute_input": "2022-11-29T12:10:22.034039Z",
     "iopub.status.busy": "2022-11-29T12:10:22.033771Z",
     "iopub.status.idle": "2022-11-29T12:10:22.250117Z",
     "shell.execute_reply": "2022-11-29T12:10:22.249265Z"
    },
    "papermill": {
     "duration": 0.230612,
     "end_time": "2022-11-29T12:10:22.252108",
     "exception": false,
     "start_time": "2022-11-29T12:10:22.021496",
     "status": "completed"
    },
    "tags": []
   },
   "outputs": [
    {
     "data": {
      "image/png": "[encoded data removed]",
      "text/plain": [
       "<Figure size 432x288 with 1 Axes>"
      ]
     },
     "metadata": {
      "needs_background": "light"
     },
     "output_type": "display_data"
    }
   ],
   "source": [
    "N = 9\n",
    "\n",
    "plt.imshow(X_test[N])\n",
    "plt.title(classes[np.argmax(y_test[N, :])])\n",
    "plt.show()"
   ]
  },
  {
   "cell_type": "code",
   "execution_count": 9,
   "id": "75207aa4",
   "metadata": {
    "execution": {
     "iopub.execute_input": "2022-11-29T12:10:22.277011Z",
     "iopub.status.busy": "2022-11-29T12:10:22.276230Z",
     "iopub.status.idle": "2022-11-29T12:10:25.398095Z",
     "shell.execute_reply": "2022-11-29T12:10:25.395515Z"
    },
    "papermill": {
     "duration": 3.136307,
     "end_time": "2022-11-29T12:10:25.400192",
     "exception": false,
     "start_time": "2022-11-29T12:10:22.263885",
     "status": "completed"
    },
    "tags": []
   },
   "outputs": [
    {
     "name": "stderr",
     "output_type": "stream",
     "text": [
      "2022-11-29 12:10:22.304045: I tensorflow/core/platform/cpu_feature_guard.cc:142] This TensorFlow binary is optimized with oneAPI Deep Neural Network Library (oneDNN) to use the following CPU instructions in performance-critical operations:  AVX2 AVX512F FMA\n",
      "To enable them in other operations, rebuild TensorFlow with the appropriate compiler flags.\n",
      "2022-11-29 12:10:22.304487: I tensorflow/stream_executor/cuda/cuda_gpu_executor.cc:937] successful NUMA node read from SysFS had negative value (-1), but there must be at least one NUMA node, so returning NUMA node zero\n",
      "2022-11-29 12:10:22.305413: I tensorflow/stream_executor/cuda/cuda_gpu_executor.cc:937] successful NUMA node read from SysFS had negative value (-1), but there must be at least one NUMA node, so returning NUMA node zero\n",
      "2022-11-29 12:10:22.306131: I tensorflow/stream_executor/cuda/cuda_gpu_executor.cc:937] successful NUMA node read from SysFS had negative value (-1), but there must be at least one NUMA node, so returning NUMA node zero\n",
      "2022-11-29 12:10:24.772348: I tensorflow/stream_executor/cuda/cuda_gpu_executor.cc:937] successful NUMA node read from SysFS had negative value (-1), but there must be at least one NUMA node, so returning NUMA node zero\n",
      "2022-11-29 12:10:24.773149: I tensorflow/stream_executor/cuda/cuda_gpu_executor.cc:937] successful NUMA node read from SysFS had negative value (-1), but there must be at least one NUMA node, so returning NUMA node zero\n",
      "2022-11-29 12:10:24.773984: I tensorflow/stream_executor/cuda/cuda_gpu_executor.cc:937] successful NUMA node read from SysFS had negative value (-1), but there must be at least one NUMA node, so returning NUMA node zero\n",
      "2022-11-29 12:10:24.774598: I tensorflow/core/common_runtime/gpu/gpu_device.cc:1510] Created device /job:localhost/replica:0/task:0/device:GPU:0 with 15401 MB memory:  -> device: 0, name: Tesla P100-PCIE-16GB, pci bus id: 0000:00:04.0, compute capability: 6.0\n"
     ]
    },
    {
     "name": "stdout",
     "output_type": "stream",
     "text": [
      "Model: \"sequential\"\n",
      "_________________________________________________________________\n",
      "Layer (type)                 Output Shape              Param #   \n",
      "=================================================================\n",
      "conv2d (Conv2D)              (None, 32, 32, 32)        896       \n",
      "_________________________________________________________________\n",
      "activation (Activation)      (None, 32, 32, 32)        0         \n",
      "_________________________________________________________________\n",
      "conv2d_1 (Conv2D)            (None, 30, 30, 32)        9248      \n",
      "_________________________________________________________________\n",
      "activation_1 (Activation)    (None, 30, 30, 32)        0         \n",
      "_________________________________________________________________\n",
      "max_pooling2d (MaxPooling2D) (None, 15, 15, 32)        0         \n",
      "_________________________________________________________________\n",
      "dropout (Dropout)            (None, 15, 15, 32)        0         \n",
      "_________________________________________________________________\n",
      "conv2d_2 (Conv2D)            (None, 15, 15, 64)        18496     \n",
      "_________________________________________________________________\n",
      "activation_2 (Activation)    (None, 15, 15, 64)        0         \n",
      "_________________________________________________________________\n",
      "conv2d_3 (Conv2D)            (None, 13, 13, 64)        36928     \n",
      "_________________________________________________________________\n",
      "activation_3 (Activation)    (None, 13, 13, 64)        0         \n",
      "_________________________________________________________________\n",
      "max_pooling2d_1 (MaxPooling2 (None, 6, 6, 64)          0         \n",
      "_________________________________________________________________\n",
      "dropout_1 (Dropout)          (None, 6, 6, 64)          0         \n",
      "_________________________________________________________________\n",
      "global_average_pooling2d (Gl (None, 64)                0         \n",
      "_________________________________________________________________\n",
      "dense (Dense)                (None, 64)                4160      \n",
      "_________________________________________________________________\n",
      "activation_4 (Activation)    (None, 64)                0         \n",
      "_________________________________________________________________\n",
      "dense_1 (Dense)              (None, 32)                2080      \n",
      "_________________________________________________________________\n",
      "activation_5 (Activation)    (None, 32)                0         \n",
      "_________________________________________________________________\n",
      "dropout_2 (Dropout)          (None, 32)                0         \n",
      "_________________________________________________________________\n",
      "dense_2 (Dense)              (None, 10)                330       \n",
      "_________________________________________________________________\n",
      "activation_6 (Activation)    (None, 10)                0         \n",
      "=================================================================\n",
      "Total params: 72,138\n",
      "Trainable params: 72,138\n",
      "Non-trainable params: 0\n",
      "_________________________________________________________________\n"
     ]
    }
   ],
   "source": [
    "# конфигурирование слоев нейросети\n",
    "model_1 = Sequential()\n",
    "\n",
    "# слои нейросети отвественные за свертку и max-pooling\n",
    "model_1.add(Conv2D(32, (3, 3), padding='same', input_shape=X_train.shape[1:]))\n",
    "model_1.add(Activation('relu'))\n",
    "model_1.add(Conv2D(32, (3, 3)))\n",
    "model_1.add(Activation('relu'))\n",
    "model_1.add(MaxPooling2D(pool_size=(2, 2)))\n",
    "model_1.add(Dropout(0.25))\n",
    "\n",
    "model_1.add(Conv2D(64, (3, 3), padding='same'))\n",
    "model_1.add(Activation('relu'))\n",
    "model_1.add(Conv2D(64, (3, 3)))\n",
    "model_1.add(Activation('relu'))\n",
    "model_1.add(MaxPooling2D(pool_size=(2, 2)))\n",
    "model_1.add(Dropout(0.25))\n",
    "\n",
    "# полносвязные слои нейронной сети\n",
    "model_1.add(GlobalAveragePooling2D())\n",
    "model_1.add(Dense(64))\n",
    "model_1.add(Activation('relu'))\n",
    "model_1.add(Dense(32))\n",
    "model_1.add(Activation('relu'))\n",
    "model_1.add(Dropout(0.5))\n",
    "model_1.add(Dense(num_classes))\n",
    "model_1.add(Activation('softmax'))\n",
    "\n",
    "model_1.summary()\n",
    "# компиляция модели\n",
    "model_1.compile(loss='categorical_crossentropy',\n",
    "                optimizer='Adam',\n",
    "                metrics=['accuracy'])"
   ]
  },
  {
   "cell_type": "code",
   "execution_count": 10,
   "id": "1d3e3856",
   "metadata": {
    "execution": {
     "iopub.execute_input": "2022-11-29T12:10:25.428615Z",
     "iopub.status.busy": "2022-11-29T12:10:25.427685Z",
     "iopub.status.idle": "2022-11-29T12:11:49.824370Z",
     "shell.execute_reply": "2022-11-29T12:11:49.823298Z"
    },
    "papermill": {
     "duration": 84.413492,
     "end_time": "2022-11-29T12:11:49.826881",
     "exception": false,
     "start_time": "2022-11-29T12:10:25.413389",
     "status": "completed"
    },
    "tags": []
   },
   "outputs": [
    {
     "name": "stderr",
     "output_type": "stream",
     "text": [
      "2022-11-29 12:10:27.247080: I tensorflow/compiler/mlir/mlir_graph_optimization_pass.cc:185] None of the MLIR Optimization Passes are enabled (registered 2)\n"
     ]
    },
    {
     "name": "stdout",
     "output_type": "stream",
     "text": [
      "Epoch 1/10\n"
     ]
    },
    {
     "name": "stderr",
     "output_type": "stream",
     "text": [
      "2022-11-29 12:10:28.700018: I tensorflow/stream_executor/cuda/cuda_dnn.cc:369] Loaded cuDNN version 8005\n"
     ]
    },
    {
     "name": "stdout",
     "output_type": "stream",
     "text": [
      "782/782 [==============================] - 12s 6ms/step - loss: 1.9786 - accuracy: 0.2246 - val_loss: 1.7051 - val_accuracy: 0.3484\n",
      "Epoch 2/10\n",
      "782/782 [==============================] - 5s 6ms/step - loss: 1.7061 - accuracy: 0.3378 - val_loss: 1.5038 - val_accuracy: 0.4281\n",
      "Epoch 3/10\n",
      "782/782 [==============================] - 4s 6ms/step - loss: 1.5715 - accuracy: 0.4071 - val_loss: 1.3634 - val_accuracy: 0.4973\n",
      "Epoch 4/10\n",
      "782/782 [==============================] - 4s 5ms/step - loss: 1.4532 - accuracy: 0.4630 - val_loss: 1.2682 - val_accuracy: 0.5378\n",
      "Epoch 5/10\n",
      "782/782 [==============================] - 5s 7ms/step - loss: 1.3877 - accuracy: 0.4967 - val_loss: 1.2076 - val_accuracy: 0.5514\n",
      "Epoch 6/10\n",
      "782/782 [==============================] - 4s 5ms/step - loss: 1.3274 - accuracy: 0.5214 - val_loss: 1.1433 - val_accuracy: 0.5866\n",
      "Epoch 7/10\n",
      "782/782 [==============================] - 4s 6ms/step - loss: 1.2859 - accuracy: 0.5404 - val_loss: 1.0841 - val_accuracy: 0.6116\n",
      "Epoch 8/10\n",
      "782/782 [==============================] - 4s 5ms/step - loss: 1.2373 - accuracy: 0.5590 - val_loss: 1.0522 - val_accuracy: 0.6214\n",
      "Epoch 9/10\n",
      "782/782 [==============================] - 4s 6ms/step - loss: 1.1954 - accuracy: 0.5806 - val_loss: 1.0410 - val_accuracy: 0.6335\n",
      "Epoch 10/10\n",
      "782/782 [==============================] - 5s 6ms/step - loss: 1.1564 - accuracy: 0.5950 - val_loss: 1.0123 - val_accuracy: 0.6312\n"
     ]
    }
   ],
   "source": [
    "history_1 = model_1.fit(X_train, y_train,\n",
    "                        batch_size=batch_size,\n",
    "                        epochs=epochs,\n",
    "                        validation_data=(X_test, y_test))"
   ]
  },
  {
   "cell_type": "code",
   "execution_count": 11,
   "id": "e728572c",
   "metadata": {
    "execution": {
     "iopub.execute_input": "2022-11-29T12:11:49.930601Z",
     "iopub.status.busy": "2022-11-29T12:11:49.930284Z",
     "iopub.status.idle": "2022-11-29T12:11:55.990472Z",
     "shell.execute_reply": "2022-11-29T12:11:55.988651Z"
    },
    "papermill": {
     "duration": 6.114643,
     "end_time": "2022-11-29T12:11:55.992985",
     "exception": false,
     "start_time": "2022-11-29T12:11:49.878342",
     "status": "completed"
    },
    "tags": []
   },
   "outputs": [
    {
     "name": "stdout",
     "output_type": "stream",
     "text": [
      "1563/1563 - 3s - loss: 0.9583 - accuracy: 0.6539\n",
      "313/313 - 1s - loss: 1.0123 - accuracy: 0.6312\n",
      "train_loss: 0.9583460688591003, train_accuracy: 0.6539199948310852\n",
      "test_loss: 1.0123403072357178, test_accuracy: 0.6312000155448914\n"
     ]
    }
   ],
   "source": [
    "train_loss, train_m = model_1.evaluate(X_train, y_train, verbose=2)\n",
    "test_loss, test_m = model_1.evaluate(X_test, y_test, verbose=2)\n",
    "print(f'train_loss: {train_loss}, train_accuracy: {train_m}')\n",
    "print(f'test_loss: {test_loss}, test_accuracy: {test_m}')\n",
    "\n",
    "step.append(1)\n",
    "desc.append('Базовая модель')\n",
    "train_acc.append(round(train_m, 2))\n",
    "test_acc.append(round(test_m, 2))"
   ]
  },
  {
   "cell_type": "code",
   "execution_count": 12,
   "id": "f2e9b863",
   "metadata": {
    "execution": {
     "iopub.execute_input": "2022-11-29T12:11:56.095804Z",
     "iopub.status.busy": "2022-11-29T12:11:56.095512Z",
     "iopub.status.idle": "2022-11-29T12:11:56.462040Z",
     "shell.execute_reply": "2022-11-29T12:11:56.461098Z"
    },
    "papermill": {
     "duration": 0.419814,
     "end_time": "2022-11-29T12:11:56.464228",
     "exception": false,
     "start_time": "2022-11-29T12:11:56.044414",
     "status": "completed"
    },
    "tags": []
   },
   "outputs": [
    {
     "data": {
      "image/png": "[encoded data removed]",
      "text/plain": [
       "<Figure size 432x288 with 1 Axes>"
      ]
     },
     "metadata": {
      "needs_background": "light"
     },
     "output_type": "display_data"
    }
   ],
   "source": [
    "N = 5\n",
    "y_p = model_1.predict(X_test[N:N+1])\n",
    "y_t = np.argmax(y_test[N:N+1], axis = 1 )\n",
    "y_i = np.argmax(y_p, axis = 1 )\n",
    "plt.imshow(X_test[N])\n",
    "plt.title(f'это : {classes[y_t[0]]} - опознан как : {classes[y_i[0]]}')\n",
    "plt.show()"
   ]
  },
  {
   "cell_type": "code",
   "execution_count": 13,
   "id": "59f2b4b2",
   "metadata": {
    "execution": {
     "iopub.execute_input": "2022-11-29T12:11:56.569414Z",
     "iopub.status.busy": "2022-11-29T12:11:56.567735Z",
     "iopub.status.idle": "2022-11-29T12:11:56.665469Z",
     "shell.execute_reply": "2022-11-29T12:11:56.663887Z"
    },
    "papermill": {
     "duration": 0.152224,
     "end_time": "2022-11-29T12:11:56.668020",
     "exception": false,
     "start_time": "2022-11-29T12:11:56.515796",
     "status": "completed"
    },
    "tags": []
   },
   "outputs": [
    {
     "name": "stdout",
     "output_type": "stream",
     "text": [
      "Model: \"sequential_1\"\n",
      "_________________________________________________________________\n",
      "Layer (type)                 Output Shape              Param #   \n",
      "=================================================================\n",
      "conv2d_4 (Conv2D)            (None, 32, 32, 32)        896       \n",
      "_________________________________________________________________\n",
      "activation_7 (Activation)    (None, 32, 32, 32)        0         \n",
      "_________________________________________________________________\n",
      "conv2d_5 (Conv2D)            (None, 30, 30, 64)        18496     \n",
      "_________________________________________________________________\n",
      "activation_8 (Activation)    (None, 30, 30, 64)        0         \n",
      "_________________________________________________________________\n",
      "max_pooling2d_2 (MaxPooling2 (None, 15, 15, 64)        0         \n",
      "_________________________________________________________________\n",
      "dropout_3 (Dropout)          (None, 15, 15, 64)        0         \n",
      "_________________________________________________________________\n",
      "conv2d_6 (Conv2D)            (None, 15, 15, 128)       73856     \n",
      "_________________________________________________________________\n",
      "activation_9 (Activation)    (None, 15, 15, 128)       0         \n",
      "_________________________________________________________________\n",
      "conv2d_7 (Conv2D)            (None, 13, 13, 256)       295168    \n",
      "_________________________________________________________________\n",
      "activation_10 (Activation)   (None, 13, 13, 256)       0         \n",
      "_________________________________________________________________\n",
      "max_pooling2d_3 (MaxPooling2 (None, 6, 6, 256)         0         \n",
      "_________________________________________________________________\n",
      "dropout_4 (Dropout)          (None, 6, 6, 256)         0         \n",
      "_________________________________________________________________\n",
      "global_average_pooling2d_1 ( (None, 256)               0         \n",
      "_________________________________________________________________\n",
      "dense_3 (Dense)              (None, 64)                16448     \n",
      "_________________________________________________________________\n",
      "activation_11 (Activation)   (None, 64)                0         \n",
      "_________________________________________________________________\n",
      "dense_4 (Dense)              (None, 32)                2080      \n",
      "_________________________________________________________________\n",
      "activation_12 (Activation)   (None, 32)                0         \n",
      "_________________________________________________________________\n",
      "dropout_5 (Dropout)          (None, 32)                0         \n",
      "_________________________________________________________________\n",
      "dense_5 (Dense)              (None, 10)                330       \n",
      "_________________________________________________________________\n",
      "activation_13 (Activation)   (None, 10)                0         \n",
      "=================================================================\n",
      "Total params: 407,274\n",
      "Trainable params: 407,274\n",
      "Non-trainable params: 0\n",
      "_________________________________________________________________\n"
     ]
    }
   ],
   "source": [
    "# конфигурирование слоев нейросети\n",
    "model_2 = Sequential()\n",
    "\n",
    "# слои нейросети отвественные за свертку и max-pooling\n",
    "model_2.add(Conv2D(32, (3, 3), padding='same', input_shape=X_train.shape[1:]))\n",
    "model_2.add(Activation('relu'))\n",
    "model_2.add(Conv2D(64, (3, 3)))\n",
    "model_2.add(Activation('relu'))\n",
    "model_2.add(MaxPooling2D(pool_size=(2, 2)))\n",
    "model_2.add(Dropout(0.25))\n",
    "\n",
    "model_2.add(Conv2D(128, (3, 3), padding='same'))\n",
    "model_2.add(Activation('relu'))\n",
    "model_2.add(Conv2D(256, (3, 3)))\n",
    "model_2.add(Activation('relu'))\n",
    "model_2.add(MaxPooling2D(pool_size=(2, 2)))\n",
    "model_2.add(Dropout(0.25))\n",
    "\n",
    "# полносвязные слои нейронной сети\n",
    "model_2.add(GlobalAveragePooling2D())\n",
    "model_2.add(Dense(64))\n",
    "model_2.add(Activation('relu'))\n",
    "model_2.add(Dense(32))\n",
    "model_2.add(Activation('relu'))\n",
    "model_2.add(Dropout(0.5))\n",
    "model_2.add(Dense(num_classes))\n",
    "model_2.add(Activation('softmax'))\n",
    "\n",
    "model_2.summary()\n",
    "# компиляция модели\n",
    "model_2.compile(loss='categorical_crossentropy',\n",
    "                optimizer='Adam',\n",
    "                metrics=['accuracy'])"
   ]
  },
  {
   "cell_type": "code",
   "execution_count": 14,
   "id": "d6cd734a",
   "metadata": {
    "execution": {
     "iopub.execute_input": "2022-11-29T12:11:56.771279Z",
     "iopub.status.busy": "2022-11-29T12:11:56.770946Z",
     "iopub.status.idle": "2022-11-29T12:13:03.643422Z",
     "shell.execute_reply": "2022-11-29T12:13:03.642478Z"
    },
    "papermill": {
     "duration": 66.926173,
     "end_time": "2022-11-29T12:13:03.645734",
     "exception": false,
     "start_time": "2022-11-29T12:11:56.719561",
     "status": "completed"
    },
    "tags": []
   },
   "outputs": [
    {
     "name": "stdout",
     "output_type": "stream",
     "text": [
      "Epoch 1/10\n",
      "782/782 [==============================] - 8s 9ms/step - loss: 1.9815 - accuracy: 0.2294 - val_loss: 1.6757 - val_accuracy: 0.3572\n",
      "Epoch 2/10\n",
      "782/782 [==============================] - 6s 8ms/step - loss: 1.6373 - accuracy: 0.3785 - val_loss: 1.4401 - val_accuracy: 0.4472\n",
      "Epoch 3/10\n",
      "782/782 [==============================] - 6s 8ms/step - loss: 1.4545 - accuracy: 0.4627 - val_loss: 1.2262 - val_accuracy: 0.5535\n",
      "Epoch 4/10\n",
      "782/782 [==============================] - 6s 8ms/step - loss: 1.3278 - accuracy: 0.5188 - val_loss: 1.2389 - val_accuracy: 0.5515\n",
      "Epoch 5/10\n",
      "782/782 [==============================] - 7s 8ms/step - loss: 1.2315 - accuracy: 0.5608 - val_loss: 1.0274 - val_accuracy: 0.6307\n",
      "Epoch 6/10\n",
      "782/782 [==============================] - 6s 8ms/step - loss: 1.1448 - accuracy: 0.5965 - val_loss: 0.9918 - val_accuracy: 0.6487\n",
      "Epoch 7/10\n",
      "782/782 [==============================] - 6s 8ms/step - loss: 1.0819 - accuracy: 0.6230 - val_loss: 0.9337 - val_accuracy: 0.6641\n",
      "Epoch 8/10\n",
      "782/782 [==============================] - 6s 8ms/step - loss: 1.0329 - accuracy: 0.6400 - val_loss: 0.9015 - val_accuracy: 0.6792\n",
      "Epoch 9/10\n",
      "782/782 [==============================] - 6s 8ms/step - loss: 0.9923 - accuracy: 0.6571 - val_loss: 0.8680 - val_accuracy: 0.6954\n",
      "Epoch 10/10\n",
      "782/782 [==============================] - 6s 8ms/step - loss: 0.9567 - accuracy: 0.6719 - val_loss: 0.8280 - val_accuracy: 0.7064\n"
     ]
    }
   ],
   "source": [
    "history_2 = model_2.fit(X_train, y_train,\n",
    "                        batch_size=batch_size,\n",
    "                        epochs=epochs,\n",
    "                        validation_data=(X_test, y_test))"
   ]
  },
  {
   "cell_type": "code",
   "execution_count": 15,
   "id": "9a840f47",
   "metadata": {
    "execution": {
     "iopub.execute_input": "2022-11-29T12:13:03.868455Z",
     "iopub.status.busy": "2022-11-29T12:13:03.867658Z",
     "iopub.status.idle": "2022-11-29T12:13:12.520360Z",
     "shell.execute_reply": "2022-11-29T12:13:12.519073Z"
    },
    "papermill": {
     "duration": 8.767212,
     "end_time": "2022-11-29T12:13:12.523629",
     "exception": false,
     "start_time": "2022-11-29T12:13:03.756417",
     "status": "completed"
    },
    "tags": []
   },
   "outputs": [
    {
     "name": "stdout",
     "output_type": "stream",
     "text": [
      "1563/1563 - 4s - loss: 0.7385 - accuracy: 0.7425\n",
      "313/313 - 1s - loss: 0.8280 - accuracy: 0.7064\n",
      "train_loss: 0.73853999376297, train_accuracy: 0.7424600124359131\n",
      "test_loss: 0.8280030488967896, test_accuracy: 0.7063999772071838\n"
     ]
    }
   ],
   "source": [
    "train_loss, train_m = model_2.evaluate(X_train, y_train, verbose=2)\n",
    "test_loss, test_m = model_2.evaluate(X_test, y_test, verbose=2)\n",
    "print(f'train_loss: {train_loss}, train_accuracy: {train_m}')\n",
    "print(f'test_loss: {test_loss}, test_accuracy: {test_m}')\n",
    "\n",
    "step.append(2)\n",
    "desc.append('Шире - больше каналов')\n",
    "train_acc.append(round(train_m, 2))\n",
    "test_acc.append(round(test_m, 2))"
   ]
  },
  {
   "cell_type": "code",
   "execution_count": 16,
   "id": "fd8fc6fd",
   "metadata": {
    "execution": {
     "iopub.execute_input": "2022-11-29T12:13:12.744231Z",
     "iopub.status.busy": "2022-11-29T12:13:12.743531Z",
     "iopub.status.idle": "2022-11-29T12:13:13.074767Z",
     "shell.execute_reply": "2022-11-29T12:13:13.073875Z"
    },
    "papermill": {
     "duration": 0.443162,
     "end_time": "2022-11-29T12:13:13.076706",
     "exception": false,
     "start_time": "2022-11-29T12:13:12.633544",
     "status": "completed"
    },
    "tags": []
   },
   "outputs": [
    {
     "data": {
      "image/png": "[encoded data removed]",
      "text/plain": [
       "<Figure size 432x288 with 1 Axes>"
      ]
     },
     "metadata": {
      "needs_background": "light"
     },
     "output_type": "display_data"
    }
   ],
   "source": [
    "N = 15\n",
    "y_p = model_2.predict(X_test[N:N+1])\n",
    "y_t = np.argmax(y_test[N:N+1], axis = 1 )\n",
    "y_i = np.argmax(y_p, axis = 1 )\n",
    "plt.imshow(X_test[N])\n",
    "plt.title(f'это : {classes[y_t[0]]} - опознан как : {classes[y_i[0]]}')\n",
    "plt.show()"
   ]
  },
  {
   "cell_type": "code",
   "execution_count": 17,
   "id": "46a41db7",
   "metadata": {
    "execution": {
     "iopub.execute_input": "2022-11-29T12:13:13.353493Z",
     "iopub.status.busy": "2022-11-29T12:13:13.351836Z",
     "iopub.status.idle": "2022-11-29T12:13:13.478218Z",
     "shell.execute_reply": "2022-11-29T12:13:13.477192Z"
    },
    "papermill": {
     "duration": 0.241088,
     "end_time": "2022-11-29T12:13:13.481132",
     "exception": false,
     "start_time": "2022-11-29T12:13:13.240044",
     "status": "completed"
    },
    "tags": []
   },
   "outputs": [
    {
     "name": "stdout",
     "output_type": "stream",
     "text": [
      "Model: \"sequential_2\"\n",
      "_________________________________________________________________\n",
      "Layer (type)                 Output Shape              Param #   \n",
      "=================================================================\n",
      "conv2d_8 (Conv2D)            (None, 32, 32, 32)        896       \n",
      "_________________________________________________________________\n",
      "activation_14 (Activation)   (None, 32, 32, 32)        0         \n",
      "_________________________________________________________________\n",
      "conv2d_9 (Conv2D)            (None, 30, 30, 32)        9248      \n",
      "_________________________________________________________________\n",
      "activation_15 (Activation)   (None, 30, 30, 32)        0         \n",
      "_________________________________________________________________\n",
      "max_pooling2d_4 (MaxPooling2 (None, 15, 15, 32)        0         \n",
      "_________________________________________________________________\n",
      "dropout_6 (Dropout)          (None, 15, 15, 32)        0         \n",
      "_________________________________________________________________\n",
      "conv2d_10 (Conv2D)           (None, 15, 15, 64)        18496     \n",
      "_________________________________________________________________\n",
      "activation_16 (Activation)   (None, 15, 15, 64)        0         \n",
      "_________________________________________________________________\n",
      "conv2d_11 (Conv2D)           (None, 13, 13, 64)        36928     \n",
      "_________________________________________________________________\n",
      "activation_17 (Activation)   (None, 13, 13, 64)        0         \n",
      "_________________________________________________________________\n",
      "max_pooling2d_5 (MaxPooling2 (None, 6, 6, 64)          0         \n",
      "_________________________________________________________________\n",
      "dropout_7 (Dropout)          (None, 6, 6, 64)          0         \n",
      "_________________________________________________________________\n",
      "conv2d_12 (Conv2D)           (None, 6, 6, 64)          36928     \n",
      "_________________________________________________________________\n",
      "activation_18 (Activation)   (None, 6, 6, 64)          0         \n",
      "_________________________________________________________________\n",
      "conv2d_13 (Conv2D)           (None, 4, 4, 64)          36928     \n",
      "_________________________________________________________________\n",
      "activation_19 (Activation)   (None, 4, 4, 64)          0         \n",
      "_________________________________________________________________\n",
      "max_pooling2d_6 (MaxPooling2 (None, 2, 2, 64)          0         \n",
      "_________________________________________________________________\n",
      "dropout_8 (Dropout)          (None, 2, 2, 64)          0         \n",
      "_________________________________________________________________\n",
      "global_average_pooling2d_2 ( (None, 64)                0         \n",
      "_________________________________________________________________\n",
      "dense_6 (Dense)              (None, 64)                4160      \n",
      "_________________________________________________________________\n",
      "activation_20 (Activation)   (None, 64)                0         \n",
      "_________________________________________________________________\n",
      "dense_7 (Dense)              (None, 32)                2080      \n",
      "_________________________________________________________________\n",
      "activation_21 (Activation)   (None, 32)                0         \n",
      "_________________________________________________________________\n",
      "dropout_9 (Dropout)          (None, 32)                0         \n",
      "_________________________________________________________________\n",
      "dense_8 (Dense)              (None, 10)                330       \n",
      "_________________________________________________________________\n",
      "activation_22 (Activation)   (None, 10)                0         \n",
      "=================================================================\n",
      "Total params: 145,994\n",
      "Trainable params: 145,994\n",
      "Non-trainable params: 0\n",
      "_________________________________________________________________\n"
     ]
    }
   ],
   "source": [
    "# конфигурирование слоев нейросети\n",
    "model_3 = Sequential()\n",
    "\n",
    "# слои нейросети отвественные за свертку и max-pooling\n",
    "model_3.add(Conv2D(32, (3, 3), padding='same', input_shape=X_train.shape[1:]))\n",
    "model_3.add(Activation('relu'))\n",
    "model_3.add(Conv2D(32, (3, 3)))\n",
    "model_3.add(Activation('relu'))\n",
    "model_3.add(MaxPooling2D(pool_size=(2, 2)))\n",
    "model_3.add(Dropout(0.25))\n",
    "\n",
    "model_3.add(Conv2D(64, (3, 3), padding='same'))\n",
    "model_3.add(Activation('relu'))\n",
    "model_3.add(Conv2D(64, (3, 3)))\n",
    "model_3.add(Activation('relu'))\n",
    "model_3.add(MaxPooling2D(pool_size=(2, 2)))\n",
    "model_3.add(Dropout(0.25))\n",
    "\n",
    "model_3.add(Conv2D(64, (3, 3), padding='same'))\n",
    "model_3.add(Activation('relu'))\n",
    "model_3.add(Conv2D(64, (3, 3)))\n",
    "model_3.add(Activation('relu'))\n",
    "model_3.add(MaxPooling2D(pool_size=(2, 2)))\n",
    "model_3.add(Dropout(0.25))\n",
    "\n",
    "\n",
    "# полносвязные слои нейронной сети\n",
    "model_3.add(GlobalAveragePooling2D())\n",
    "model_3.add(Dense(64))\n",
    "model_3.add(Activation('relu'))\n",
    "model_3.add(Dense(32))\n",
    "model_3.add(Activation('relu'))\n",
    "model_3.add(Dropout(0.5))\n",
    "model_3.add(Dense(num_classes))\n",
    "model_3.add(Activation('softmax'))\n",
    "\n",
    "model_3.summary()\n",
    "# компиляция модели\n",
    "model_3.compile(loss='categorical_crossentropy',\n",
    "                optimizer='Adam',\n",
    "                metrics=['accuracy'])"
   ]
  },
  {
   "cell_type": "code",
   "execution_count": 18,
   "id": "68684a08",
   "metadata": {
    "execution": {
     "iopub.execute_input": "2022-11-29T12:13:13.704624Z",
     "iopub.status.busy": "2022-11-29T12:13:13.702794Z",
     "iopub.status.idle": "2022-11-29T12:14:07.370503Z",
     "shell.execute_reply": "2022-11-29T12:14:07.369547Z"
    },
    "papermill": {
     "duration": 53.78112,
     "end_time": "2022-11-29T12:14:07.372638",
     "exception": false,
     "start_time": "2022-11-29T12:13:13.591518",
     "status": "completed"
    },
    "tags": []
   },
   "outputs": [
    {
     "name": "stdout",
     "output_type": "stream",
     "text": [
      "Epoch 1/10\n",
      "782/782 [==============================] - 6s 7ms/step - loss: 1.9594 - accuracy: 0.2377 - val_loss: 1.6768 - val_accuracy: 0.3811\n",
      "Epoch 2/10\n",
      "782/782 [==============================] - 5s 6ms/step - loss: 1.6247 - accuracy: 0.3929 - val_loss: 1.3199 - val_accuracy: 0.5166\n",
      "Epoch 3/10\n",
      "782/782 [==============================] - 5s 6ms/step - loss: 1.4145 - accuracy: 0.4936 - val_loss: 1.2397 - val_accuracy: 0.5521\n",
      "Epoch 4/10\n",
      "782/782 [==============================] - 5s 7ms/step - loss: 1.3052 - accuracy: 0.5368 - val_loss: 1.1174 - val_accuracy: 0.5937\n",
      "Epoch 5/10\n",
      "782/782 [==============================] - 5s 6ms/step - loss: 1.2261 - accuracy: 0.5710 - val_loss: 1.0118 - val_accuracy: 0.6462\n",
      "Epoch 6/10\n",
      "782/782 [==============================] - 5s 6ms/step - loss: 1.1595 - accuracy: 0.5973 - val_loss: 0.9695 - val_accuracy: 0.6606\n",
      "Epoch 7/10\n",
      "782/782 [==============================] - 5s 7ms/step - loss: 1.0971 - accuracy: 0.6254 - val_loss: 0.8754 - val_accuracy: 0.6936\n",
      "Epoch 8/10\n",
      "782/782 [==============================] - 5s 6ms/step - loss: 1.0565 - accuracy: 0.6402 - val_loss: 0.8743 - val_accuracy: 0.6970\n",
      "Epoch 9/10\n",
      "782/782 [==============================] - 5s 7ms/step - loss: 1.0142 - accuracy: 0.6546 - val_loss: 0.8253 - val_accuracy: 0.7183\n",
      "Epoch 10/10\n",
      "782/782 [==============================] - 5s 7ms/step - loss: 0.9713 - accuracy: 0.6726 - val_loss: 0.8284 - val_accuracy: 0.7195\n"
     ]
    }
   ],
   "source": [
    "history_3 = model_3.fit(X_train, y_train,\n",
    "                        batch_size=batch_size,\n",
    "                        epochs=epochs,\n",
    "                        validation_data=(X_test, y_test))"
   ]
  },
  {
   "cell_type": "code",
   "execution_count": 19,
   "id": "c7e68f7d",
   "metadata": {
    "execution": {
     "iopub.execute_input": "2022-11-29T12:14:07.726014Z",
     "iopub.status.busy": "2022-11-29T12:14:07.725648Z",
     "iopub.status.idle": "2022-11-29T12:14:14.980484Z",
     "shell.execute_reply": "2022-11-29T12:14:14.978340Z"
    },
    "papermill": {
     "duration": 7.440508,
     "end_time": "2022-11-29T12:14:14.983378",
     "exception": false,
     "start_time": "2022-11-29T12:14:07.542870",
     "status": "completed"
    },
    "tags": []
   },
   "outputs": [
    {
     "name": "stdout",
     "output_type": "stream",
     "text": [
      "1563/1563 - 4s - loss: 0.7215 - accuracy: 0.7458\n",
      "313/313 - 1s - loss: 0.8284 - accuracy: 0.7195\n",
      "train_loss: 0.7215235233306885, train_accuracy: 0.7458000183105469\n",
      "test_loss: 0.8283922672271729, test_accuracy: 0.7195000052452087\n"
     ]
    }
   ],
   "source": [
    "train_loss, train_m = model_3.evaluate(X_train, y_train, verbose=2)\n",
    "test_loss, test_m = model_3.evaluate(X_test, y_test, verbose=2)\n",
    "print(f'train_loss: {train_loss}, train_accuracy: {train_m}')\n",
    "print(f'test_loss: {test_loss}, test_accuracy: {test_m}')\n",
    "\n",
    "step.append(3)\n",
    "desc.append('Глубже - больше слоев')\n",
    "train_acc.append(round(train_m,2))\n",
    "test_acc.append(round(test_m,2))"
   ]
  },
  {
   "cell_type": "code",
   "execution_count": 20,
   "id": "a63846e1",
   "metadata": {
    "execution": {
     "iopub.execute_input": "2022-11-29T12:14:15.299393Z",
     "iopub.status.busy": "2022-11-29T12:14:15.298476Z",
     "iopub.status.idle": "2022-11-29T12:14:15.660811Z",
     "shell.execute_reply": "2022-11-29T12:14:15.659843Z"
    },
    "papermill": {
     "duration": 0.522144,
     "end_time": "2022-11-29T12:14:15.662947",
     "exception": false,
     "start_time": "2022-11-29T12:14:15.140803",
     "status": "completed"
    },
    "tags": []
   },
   "outputs": [
    {
     "data": {
      "image/png": "[encoded data removed]",
      "text/plain": [
       "<Figure size 432x288 with 1 Axes>"
      ]
     },
     "metadata": {
      "needs_background": "light"
     },
     "output_type": "display_data"
    }
   ],
   "source": [
    "N = 20\n",
    "y_p = model_3.predict(X_test[N:N+1])\n",
    "y_t = np.argmax(y_test[N:N+1], axis = 1 )\n",
    "y_i = np.argmax(y_p, axis = 1 )\n",
    "plt.imshow(X_test[N])\n",
    "plt.title(f'это : {classes[y_t[0]]} - опознан как : {classes[y_i[0]]}')\n",
    "plt.show()"
   ]
  },
  {
   "cell_type": "code",
   "execution_count": 21,
   "id": "b398de79",
   "metadata": {
    "execution": {
     "iopub.execute_input": "2022-11-29T12:14:15.976309Z",
     "iopub.status.busy": "2022-11-29T12:14:15.975659Z",
     "iopub.status.idle": "2022-11-29T12:14:16.022337Z",
     "shell.execute_reply": "2022-11-29T12:14:16.021224Z"
    },
    "papermill": {
     "duration": 0.205967,
     "end_time": "2022-11-29T12:14:16.025361",
     "exception": false,
     "start_time": "2022-11-29T12:14:15.819394",
     "status": "completed"
    },
    "tags": []
   },
   "outputs": [
    {
     "name": "stdout",
     "output_type": "stream",
     "text": [
      "Model: \"sequential_3\"\n",
      "_________________________________________________________________\n",
      "Layer (type)                 Output Shape              Param #   \n",
      "=================================================================\n",
      "flatten (Flatten)            (None, 3072)              0         \n",
      "_________________________________________________________________\n",
      "dense_9 (Dense)              (None, 512)               1573376   \n",
      "_________________________________________________________________\n",
      "activation_23 (Activation)   (None, 512)               0         \n",
      "_________________________________________________________________\n",
      "dense_10 (Dense)             (None, 256)               131328    \n",
      "_________________________________________________________________\n",
      "activation_24 (Activation)   (None, 256)               0         \n",
      "_________________________________________________________________\n",
      "dropout_10 (Dropout)         (None, 256)               0         \n",
      "_________________________________________________________________\n",
      "dense_11 (Dense)             (None, 10)                2570      \n",
      "_________________________________________________________________\n",
      "activation_25 (Activation)   (None, 10)                0         \n",
      "=================================================================\n",
      "Total params: 1,707,274\n",
      "Trainable params: 1,707,274\n",
      "Non-trainable params: 0\n",
      "_________________________________________________________________\n"
     ]
    }
   ],
   "source": [
    "# конфигурирование слоев нейросети\n",
    "model_4 = Sequential()\n",
    "\n",
    "# полносвязные слои нейронной сети\n",
    "model_4.add(Flatten(input_shape=X_train.shape[1:]))\n",
    "model_4.add(Dense(512))\n",
    "model_4.add(Activation('relu'))\n",
    "model_4.add(Dense(256))\n",
    "model_4.add(Activation('relu'))\n",
    "model_4.add(Dropout(0.5))\n",
    "model_4.add(Dense(num_classes))\n",
    "model_4.add(Activation('softmax'))\n",
    "\n",
    "model_4.summary()\n",
    "# компиляция модели\n",
    "model_4.compile(loss='categorical_crossentropy',\n",
    "                optimizer='Adam',\n",
    "                metrics=['accuracy'])"
   ]
  },
  {
   "cell_type": "code",
   "execution_count": 22,
   "id": "582df9e8",
   "metadata": {
    "execution": {
     "iopub.execute_input": "2022-11-29T12:14:16.390596Z",
     "iopub.status.busy": "2022-11-29T12:14:16.390068Z",
     "iopub.status.idle": "2022-11-29T12:14:59.432097Z",
     "shell.execute_reply": "2022-11-29T12:14:59.430799Z"
    },
    "papermill": {
     "duration": 43.208077,
     "end_time": "2022-11-29T12:14:59.434756",
     "exception": false,
     "start_time": "2022-11-29T12:14:16.226679",
     "status": "completed"
    },
    "tags": []
   },
   "outputs": [
    {
     "name": "stdout",
     "output_type": "stream",
     "text": [
      "Epoch 1/10\n",
      "782/782 [==============================] - 3s 4ms/step - loss: 1.9846 - accuracy: 0.2772 - val_loss: 1.7569 - val_accuracy: 0.3725\n",
      "Epoch 2/10\n",
      "782/782 [==============================] - 3s 3ms/step - loss: 1.7733 - accuracy: 0.3608 - val_loss: 1.6894 - val_accuracy: 0.3948\n",
      "Epoch 3/10\n",
      "782/782 [==============================] - 2s 3ms/step - loss: 1.7113 - accuracy: 0.3874 - val_loss: 1.6268 - val_accuracy: 0.4207\n",
      "Epoch 4/10\n",
      "782/782 [==============================] - 2s 3ms/step - loss: 1.6509 - accuracy: 0.4087 - val_loss: 1.6288 - val_accuracy: 0.4169\n",
      "Epoch 5/10\n",
      "782/782 [==============================] - 2s 3ms/step - loss: 1.6112 - accuracy: 0.4243 - val_loss: 1.5529 - val_accuracy: 0.4453\n",
      "Epoch 6/10\n",
      "782/782 [==============================] - 2s 3ms/step - loss: 1.5862 - accuracy: 0.4327 - val_loss: 1.5391 - val_accuracy: 0.4591\n",
      "Epoch 7/10\n",
      "782/782 [==============================] - 3s 3ms/step - loss: 1.5668 - accuracy: 0.4416 - val_loss: 1.5019 - val_accuracy: 0.4664\n",
      "Epoch 8/10\n",
      "782/782 [==============================] - 3s 3ms/step - loss: 1.5504 - accuracy: 0.4478 - val_loss: 1.5214 - val_accuracy: 0.4623\n",
      "Epoch 9/10\n",
      "782/782 [==============================] - 2s 3ms/step - loss: 1.5367 - accuracy: 0.4499 - val_loss: 1.5186 - val_accuracy: 0.4605\n",
      "Epoch 10/10\n",
      "782/782 [==============================] - 2s 3ms/step - loss: 1.5252 - accuracy: 0.4525 - val_loss: 1.5082 - val_accuracy: 0.4637\n"
     ]
    }
   ],
   "source": [
    "history_4 = model_4.fit(X_train, y_train,\n",
    "                        batch_size=batch_size,\n",
    "                        epochs=epochs,\n",
    "                        validation_data=(X_test, y_test))"
   ]
  },
  {
   "cell_type": "code",
   "execution_count": 23,
   "id": "eeb9f928",
   "metadata": {
    "execution": {
     "iopub.execute_input": "2022-11-29T12:14:59.791874Z",
     "iopub.status.busy": "2022-11-29T12:14:59.791501Z",
     "iopub.status.idle": "2022-11-29T12:15:05.149096Z",
     "shell.execute_reply": "2022-11-29T12:15:05.147301Z"
    },
    "papermill": {
     "duration": 5.537497,
     "end_time": "2022-11-29T12:15:05.152116",
     "exception": false,
     "start_time": "2022-11-29T12:14:59.614619",
     "status": "completed"
    },
    "tags": []
   },
   "outputs": [
    {
     "name": "stdout",
     "output_type": "stream",
     "text": [
      "1563/1563 - 3s - loss: 1.4437 - accuracy: 0.4822\n",
      "313/313 - 1s - loss: 1.5082 - accuracy: 0.4637\n",
      "train_loss: 1.4436800479888916, train_accuracy: 0.48221999406814575\n",
      "test_loss: 1.5082204341888428, test_accuracy: 0.46369999647140503\n"
     ]
    }
   ],
   "source": [
    "train_loss, train_m = model_4.evaluate(X_train, y_train, verbose=2)\n",
    "test_loss, test_m = model_4.evaluate(X_test, y_test, verbose=2)\n",
    "print(f'train_loss: {train_loss}, train_accuracy: {train_m}')\n",
    "print(f'test_loss: {test_loss}, test_accuracy: {test_m}')\n",
    "\n",
    "step.append(4)\n",
    "desc.append('Полносвязная сеть')\n",
    "train_acc.append(round(train_m,2))\n",
    "test_acc.append(round(test_m,2))"
   ]
  },
  {
   "cell_type": "code",
   "execution_count": 24,
   "id": "8e088549",
   "metadata": {
    "execution": {
     "iopub.execute_input": "2022-11-29T12:15:05.521060Z",
     "iopub.status.busy": "2022-11-29T12:15:05.517016Z",
     "iopub.status.idle": "2022-11-29T12:15:05.836722Z",
     "shell.execute_reply": "2022-11-29T12:15:05.835753Z"
    },
    "papermill": {
     "duration": 0.504923,
     "end_time": "2022-11-29T12:15:05.838766",
     "exception": false,
     "start_time": "2022-11-29T12:15:05.333843",
     "status": "completed"
    },
    "tags": []
   },
   "outputs": [
    {
     "data": {
      "image/png": "[encoded data removed]",
      "text/plain": [
       "<Figure size 432x288 with 1 Axes>"
      ]
     },
     "metadata": {
      "needs_background": "light"
     },
     "output_type": "display_data"
    }
   ],
   "source": [
    "N = 25\n",
    "y_p = model_4.predict(X_test[N:N+1])\n",
    "y_t = np.argmax(y_test[N:N+1], axis = 1 )\n",
    "y_i = np.argmax(y_p, axis = 1 )\n",
    "plt.imshow(X_test[N])\n",
    "plt.title(f'это : {classes[y_t[0]]} - опознан как : {classes[y_i[0]]}')\n",
    "plt.show()"
   ]
  },
  {
   "cell_type": "code",
   "execution_count": 25,
   "id": "bc63b89f",
   "metadata": {
    "execution": {
     "iopub.execute_input": "2022-11-29T12:15:06.205865Z",
     "iopub.status.busy": "2022-11-29T12:15:06.205131Z",
     "iopub.status.idle": "2022-11-29T12:15:06.228858Z",
     "shell.execute_reply": "2022-11-29T12:15:06.227732Z"
    },
    "papermill": {
     "duration": 0.210931,
     "end_time": "2022-11-29T12:15:06.231419",
     "exception": false,
     "start_time": "2022-11-29T12:15:06.020488",
     "status": "completed"
    },
    "tags": []
   },
   "outputs": [
    {
     "data": {
      "text/html": [
       "<div>\n",
       "<style scoped>\n",
       "    .dataframe tbody tr th:only-of-type {\n",
       "        vertical-align: middle;\n",
       "    }\n",
       "\n",
       "    .dataframe tbody tr th {\n",
       "        vertical-align: top;\n",
       "    }\n",
       "\n",
       "    .dataframe thead th {\n",
       "        text-align: right;\n",
       "    }\n",
       "</style>\n",
       "<table border=\"1\" class=\"dataframe\">\n",
       "  <thead>\n",
       "    <tr style=\"text-align: right;\">\n",
       "      <th></th>\n",
       "      <th>step</th>\n",
       "      <th>desc</th>\n",
       "      <th>train_acc</th>\n",
       "      <th>test_acc</th>\n",
       "    </tr>\n",
       "  </thead>\n",
       "  <tbody>\n",
       "    <tr>\n",
       "      <th>0</th>\n",
       "      <td>1</td>\n",
       "      <td>Базовая модель</td>\n",
       "      <td>0.65</td>\n",
       "      <td>0.63</td>\n",
       "    </tr>\n",
       "    <tr>\n",
       "      <th>1</th>\n",
       "      <td>2</td>\n",
       "      <td>Шире - больше каналов</td>\n",
       "      <td>0.74</td>\n",
       "      <td>0.71</td>\n",
       "    </tr>\n",
       "    <tr>\n",
       "      <th>2</th>\n",
       "      <td>3</td>\n",
       "      <td>Глубже - больше слоев</td>\n",
       "      <td>0.75</td>\n",
       "      <td>0.72</td>\n",
       "    </tr>\n",
       "    <tr>\n",
       "      <th>3</th>\n",
       "      <td>4</td>\n",
       "      <td>Полносвязная сеть</td>\n",
       "      <td>0.48</td>\n",
       "      <td>0.46</td>\n",
       "    </tr>\n",
       "  </tbody>\n",
       "</table>\n",
       "</div>"
      ],
      "text/plain": [
       "   step                   desc  train_acc  test_acc\n",
       "0     1         Базовая модель       0.65      0.63\n",
       "1     2  Шире - больше каналов       0.74      0.71\n",
       "2     3  Глубже - больше слоев       0.75      0.72\n",
       "3     4      Полносвязная сеть       0.48      0.46"
      ]
     },
     "execution_count": 25,
     "metadata": {},
     "output_type": "execute_result"
    }
   ],
   "source": [
    "results['step'] = step\n",
    "results['desc'] = desc\n",
    "results['train_acc'] = train_acc\n",
    "results['test_acc'] = test_acc\n",
    "results"
   ]
  },
  {
   "cell_type": "markdown",
   "id": "bd9d0aad",
   "metadata": {
    "papermill": {
     "duration": 0.25646,
     "end_time": "2022-11-29T12:15:06.668714",
     "exception": false,
     "start_time": "2022-11-29T12:15:06.412254",
     "status": "completed"
    },
    "tags": []
   },
   "source": [
    "### Вывод:\n",
    "\n",
    "Базовая модель показала результаты: 0.66 0.65 (трейн/тест)\n",
    "\n",
    "Увеличение количества каналов дало улучшение результатов до 0.72 0.70 (трейн/тест)\n",
    "\n",
    "Увеличение числа слоев дало лучшее увеличение точности 0.75 0.72 (трейн/тест)\n",
    "\n",
    "Полносвязная сеть дала результат хуже базовой модели 0.49 0.47 (трейн/тест)"
   ]
  }
 ],
 "metadata": {
  "kernelspec": {
   "display_name": "Python 3",
   "language": "python",
   "name": "python3"
  },
  "language_info": {
   "codemirror_mode": {
    "name": "ipython",
    "version": 3
   },
   "file_extension": ".py",
   "mimetype": "text/x-python",
   "name": "python",
   "nbconvert_exporter": "python",
   "pygments_lexer": "ipython3",
   "version": "3.7.12"
  },
  "papermill": {
   "default_parameters": {},
   "duration": 311.508509,
   "end_time": "2022-11-29T12:15:10.323511",
   "environment_variables": {},
   "exception": null,
   "input_path": "__notebook__.ipynb",
   "output_path": "__notebook__.ipynb",
   "parameters": {},
   "start_time": "2022-11-29T12:09:58.815002",
   "version": "2.3.4"
  }
 },
 "nbformat": 4,
 "nbformat_minor": 5
}
