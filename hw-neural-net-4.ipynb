{
 "cells": [
  {
   "cell_type": "code",
   "execution_count": 1,
   "id": "5cc409c5",
   "metadata": {
    "_cell_guid": "b1076dfc-b9ad-4769-8c92-a6c4dae69d19",
    "_uuid": "8f2839f25d086af736a60e9eeb907d3b93b6e0e5",
    "execution": {
     "iopub.execute_input": "2022-11-29T11:55:08.609877Z",
     "iopub.status.busy": "2022-11-29T11:55:08.608978Z",
     "iopub.status.idle": "2022-11-29T11:55:08.621693Z",
     "shell.execute_reply": "2022-11-29T11:55:08.620835Z"
    },
    "papermill": {
     "duration": 0.02452,
     "end_time": "2022-11-29T11:55:08.624133",
     "exception": false,
     "start_time": "2022-11-29T11:55:08.599613",
     "status": "completed"
    },
    "tags": []
   },
   "outputs": [],
   "source": [
    "# This Python 3 environment comes with many helpful analytics libraries installed\n",
    "# It is defined by the kaggle/python Docker image: https://github.com/kaggle/docker-python\n",
    "# For example, here's several helpful packages to load\n",
    "\n",
    "import numpy as np # linear algebra\n",
    "import pandas as pd # data processing, CSV file I/O (e.g. pd.read_csv)\n",
    "\n",
    "# Input data files are available in the read-only \"../input/\" directory\n",
    "# For example, running this (by clicking run or pressing Shift+Enter) will list all files under the input directory\n",
    "\n",
    "import os\n",
    "for dirname, _, filenames in os.walk('/kaggle/input'):\n",
    "    for filename in filenames:\n",
    "        print(os.path.join(dirname, filename))\n",
    "\n",
    "# You can write up to 20GB to the current directory (/kaggle/working/) that gets preserved as output when you create a version using \"Save & Run All\" \n",
    "# You can also write temporary files to /kaggle/temp/, but they won't be saved outside of the current session"
   ]
  },
  {
   "cell_type": "markdown",
   "id": "1010457c",
   "metadata": {
    "papermill": {
     "duration": 0.005995,
     "end_time": "2022-11-29T11:55:08.636958",
     "exception": false,
     "start_time": "2022-11-29T11:55:08.630963",
     "status": "completed"
    },
    "tags": []
   },
   "source": [
    "### Домашнее задание\n",
    "\n",
    "1. обучить рукописную сверточную нейронную сеть (с падением размера ядра свертки и последовательностью блоков свертка-пулинг (conv-pool)-(conv-pool)-...) на датасете cifar-10\n",
    "2. оценить рост точности при увеличении ширины сети (больше фильтров)\n",
    "3. оценить рост точности при увеличении глубины сети (больше слоев)\n",
    "4. *сравнить с точностью полносвязной сети для этой выборки"
   ]
  },
  {
   "cell_type": "code",
   "execution_count": 2,
   "id": "5981dd44",
   "metadata": {
    "execution": {
     "iopub.execute_input": "2022-11-29T11:55:08.650418Z",
     "iopub.status.busy": "2022-11-29T11:55:08.650081Z",
     "iopub.status.idle": "2022-11-29T11:55:13.580809Z",
     "shell.execute_reply": "2022-11-29T11:55:13.579696Z"
    },
    "papermill": {
     "duration": 4.940108,
     "end_time": "2022-11-29T11:55:13.583235",
     "exception": false,
     "start_time": "2022-11-29T11:55:08.643127",
     "status": "completed"
    },
    "tags": []
   },
   "outputs": [],
   "source": [
    "import numpy as np\n",
    "import pandas as pd\n",
    "import tensorflow as tf\n",
    "import matplotlib.pyplot as plt\n",
    "\n",
    "from tensorflow.keras.models import Sequential, Model\n",
    "from tensorflow.keras.layers import Conv2D, Input\n",
    "from tensorflow.keras.layers import GlobalMaxPooling2D, MaxPooling2D, AveragePooling2D, GlobalAveragePooling2D\n",
    "from tensorflow.keras.datasets import cifar10\n",
    "from tensorflow.keras.preprocessing.image import ImageDataGenerator\n",
    "from tensorflow.keras.utils import to_categorical\n",
    "from tensorflow.keras.layers import Dense, Dropout, Activation, Flatten\n",
    "\n",
    "import os"
   ]
  },
  {
   "cell_type": "code",
   "execution_count": 3,
   "id": "e895f7c8",
   "metadata": {
    "execution": {
     "iopub.execute_input": "2022-11-29T11:55:13.597699Z",
     "iopub.status.busy": "2022-11-29T11:55:13.597144Z",
     "iopub.status.idle": "2022-11-29T11:55:13.603284Z",
     "shell.execute_reply": "2022-11-29T11:55:13.602415Z"
    },
    "papermill": {
     "duration": 0.015461,
     "end_time": "2022-11-29T11:55:13.605476",
     "exception": false,
     "start_time": "2022-11-29T11:55:13.590015",
     "status": "completed"
    },
    "tags": []
   },
   "outputs": [],
   "source": [
    "tf.random.set_seed(1)"
   ]
  },
  {
   "cell_type": "code",
   "execution_count": 4,
   "id": "7ac7a24f",
   "metadata": {
    "execution": {
     "iopub.execute_input": "2022-11-29T11:55:13.619711Z",
     "iopub.status.busy": "2022-11-29T11:55:13.619375Z",
     "iopub.status.idle": "2022-11-29T11:55:13.778477Z",
     "shell.execute_reply": "2022-11-29T11:55:13.777427Z"
    },
    "papermill": {
     "duration": 0.168884,
     "end_time": "2022-11-29T11:55:13.780637",
     "exception": false,
     "start_time": "2022-11-29T11:55:13.611753",
     "status": "completed"
    },
    "tags": []
   },
   "outputs": [
    {
     "name": "stderr",
     "output_type": "stream",
     "text": [
      "2022-11-29 11:55:13.673731: I tensorflow/stream_executor/cuda/cuda_gpu_executor.cc:937] successful NUMA node read from SysFS had negative value (-1), but there must be at least one NUMA node, so returning NUMA node zero\n",
      "2022-11-29 11:55:13.758159: I tensorflow/stream_executor/cuda/cuda_gpu_executor.cc:937] successful NUMA node read from SysFS had negative value (-1), but there must be at least one NUMA node, so returning NUMA node zero\n",
      "2022-11-29 11:55:13.758954: I tensorflow/stream_executor/cuda/cuda_gpu_executor.cc:937] successful NUMA node read from SysFS had negative value (-1), but there must be at least one NUMA node, so returning NUMA node zero\n"
     ]
    },
    {
     "data": {
      "text/plain": [
       "[PhysicalDevice(name='/physical_device:GPU:0', device_type='GPU')]"
      ]
     },
     "execution_count": 4,
     "metadata": {},
     "output_type": "execute_result"
    }
   ],
   "source": [
    "tf.config.list_physical_devices('GPU')"
   ]
  },
  {
   "cell_type": "code",
   "execution_count": 5,
   "id": "82d75863",
   "metadata": {
    "execution": {
     "iopub.execute_input": "2022-11-29T11:55:13.795674Z",
     "iopub.status.busy": "2022-11-29T11:55:13.794065Z",
     "iopub.status.idle": "2022-11-29T11:55:13.802681Z",
     "shell.execute_reply": "2022-11-29T11:55:13.801438Z"
    },
    "papermill": {
     "duration": 0.017971,
     "end_time": "2022-11-29T11:55:13.804748",
     "exception": false,
     "start_time": "2022-11-29T11:55:13.786777",
     "status": "completed"
    },
    "tags": []
   },
   "outputs": [],
   "source": [
    "results = pd.DataFrame() # сводная таблица результатов\n",
    "step = [] # шаг\n",
    "desc = [] # описание\n",
    "train_acc = [] # результат на трейне\n",
    "test_acc = ['test_acc'] # результат на тесте"
   ]
  },
  {
   "cell_type": "code",
   "execution_count": 6,
   "id": "63fe5f60",
   "metadata": {
    "execution": {
     "iopub.execute_input": "2022-11-29T11:55:13.819595Z",
     "iopub.status.busy": "2022-11-29T11:55:13.818602Z",
     "iopub.status.idle": "2022-11-29T11:55:30.132296Z",
     "shell.execute_reply": "2022-11-29T11:55:30.131170Z"
    },
    "papermill": {
     "duration": 16.323923,
     "end_time": "2022-11-29T11:55:30.135131",
     "exception": false,
     "start_time": "2022-11-29T11:55:13.811208",
     "status": "completed"
    },
    "tags": []
   },
   "outputs": [
    {
     "name": "stdout",
     "output_type": "stream",
     "text": [
      "Downloading data from https://www.cs.toronto.edu/~kriz/cifar-10-python.tar.gz\n",
      "170500096/170498071 [==============================] - 12s 0us/step\n",
      "170508288/170498071 [==============================] - 12s 0us/step\n",
      "X_train shape: (50000, 32, 32, 3)\n",
      "50000 тренировочные примеры\n",
      "10000 тестовые примеры\n"
     ]
    }
   ],
   "source": [
    "# установка параметров нейросети\n",
    "batch_size = 64\n",
    "num_classes = 10\n",
    "epochs = 10\n",
    "\n",
    "# разделение тренировочной и тестовой выборки\n",
    "(X_train, y_train), (X_test, y_test) = cifar10.load_data()\n",
    "print('X_train shape:', X_train.shape)\n",
    "print(X_train.shape[0], 'тренировочные примеры')\n",
    "print(X_test.shape[0], 'тестовые примеры')\n",
    "\n",
    "# преобразование матрицы чисел 0-9 в бинарную матрицу чисел 0-1\n",
    "y_train = to_categorical(y_train, num_classes)\n",
    "y_test = to_categorical(y_test, num_classes)\n",
    "\n",
    "\n",
    "X_train = X_train / 255.0\n",
    "X_test = X_test / 255.0"
   ]
  },
  {
   "cell_type": "code",
   "execution_count": 7,
   "id": "b7a28234",
   "metadata": {
    "execution": {
     "iopub.execute_input": "2022-11-29T11:55:30.162975Z",
     "iopub.status.busy": "2022-11-29T11:55:30.162606Z",
     "iopub.status.idle": "2022-11-29T11:55:30.168940Z",
     "shell.execute_reply": "2022-11-29T11:55:30.168042Z"
    },
    "papermill": {
     "duration": 0.022876,
     "end_time": "2022-11-29T11:55:30.171325",
     "exception": false,
     "start_time": "2022-11-29T11:55:30.148449",
     "status": "completed"
    },
    "tags": []
   },
   "outputs": [],
   "source": [
    "classes = ['самолет', 'автомобиль', 'птица', 'кот', 'олень', 'собака', 'лягушка', 'лошадь', 'корабль', 'грузовик']"
   ]
  },
  {
   "cell_type": "code",
   "execution_count": 8,
   "id": "592eb48c",
   "metadata": {
    "execution": {
     "iopub.execute_input": "2022-11-29T11:55:30.198154Z",
     "iopub.status.busy": "2022-11-29T11:55:30.197846Z",
     "iopub.status.idle": "2022-11-29T11:55:30.427486Z",
     "shell.execute_reply": "2022-11-29T11:55:30.426342Z"
    },
    "papermill": {
     "duration": 0.245835,
     "end_time": "2022-11-29T11:55:30.430018",
     "exception": false,
     "start_time": "2022-11-29T11:55:30.184183",
     "status": "completed"
    },
    "tags": []
   },
   "outputs": [
    {
     "data": {
      "image/png": "[encoded data removed]",
      "text/plain": [
       "<Figure size 432x288 with 1 Axes>"
      ]
     },
     "metadata": {
      "needs_background": "light"
     },
     "output_type": "display_data"
    }
   ],
   "source": [
    "N = 9\n",
    "\n",
    "plt.imshow(X_test[N])\n",
    "plt.title(classes[np.argmax(y_test[N, :])])\n",
    "plt.show()"
   ]
  },
  {
   "cell_type": "code",
   "execution_count": 9,
   "id": "f631ffd5",
   "metadata": {
    "execution": {
     "iopub.execute_input": "2022-11-29T11:55:30.457310Z",
     "iopub.status.busy": "2022-11-29T11:55:30.456982Z",
     "iopub.status.idle": "2022-11-29T11:55:33.168333Z",
     "shell.execute_reply": "2022-11-29T11:55:33.167205Z"
    },
    "papermill": {
     "duration": 2.729236,
     "end_time": "2022-11-29T11:55:33.172305",
     "exception": false,
     "start_time": "2022-11-29T11:55:30.443069",
     "status": "completed"
    },
    "tags": []
   },
   "outputs": [
    {
     "name": "stderr",
     "output_type": "stream",
     "text": [
      "2022-11-29 11:55:30.483172: I tensorflow/core/platform/cpu_feature_guard.cc:142] This TensorFlow binary is optimized with oneAPI Deep Neural Network Library (oneDNN) to use the following CPU instructions in performance-critical operations:  AVX2 AVX512F FMA\n",
      "To enable them in other operations, rebuild TensorFlow with the appropriate compiler flags.\n",
      "2022-11-29 11:55:30.483646: I tensorflow/stream_executor/cuda/cuda_gpu_executor.cc:937] successful NUMA node read from SysFS had negative value (-1), but there must be at least one NUMA node, so returning NUMA node zero\n",
      "2022-11-29 11:55:30.484563: I tensorflow/stream_executor/cuda/cuda_gpu_executor.cc:937] successful NUMA node read from SysFS had negative value (-1), but there must be at least one NUMA node, so returning NUMA node zero\n",
      "2022-11-29 11:55:30.485242: I tensorflow/stream_executor/cuda/cuda_gpu_executor.cc:937] successful NUMA node read from SysFS had negative value (-1), but there must be at least one NUMA node, so returning NUMA node zero\n",
      "2022-11-29 11:55:32.508639: I tensorflow/stream_executor/cuda/cuda_gpu_executor.cc:937] successful NUMA node read from SysFS had negative value (-1), but there must be at least one NUMA node, so returning NUMA node zero\n",
      "2022-11-29 11:55:32.509533: I tensorflow/stream_executor/cuda/cuda_gpu_executor.cc:937] successful NUMA node read from SysFS had negative value (-1), but there must be at least one NUMA node, so returning NUMA node zero\n",
      "2022-11-29 11:55:32.510220: I tensorflow/stream_executor/cuda/cuda_gpu_executor.cc:937] successful NUMA node read from SysFS had negative value (-1), but there must be at least one NUMA node, so returning NUMA node zero\n",
      "2022-11-29 11:55:32.511004: I tensorflow/core/common_runtime/gpu/gpu_device.cc:1510] Created device /job:localhost/replica:0/task:0/device:GPU:0 with 15401 MB memory:  -> device: 0, name: Tesla P100-PCIE-16GB, pci bus id: 0000:00:04.0, compute capability: 6.0\n"
     ]
    },
    {
     "name": "stdout",
     "output_type": "stream",
     "text": [
      "Model: \"sequential\"\n",
      "_________________________________________________________________\n",
      "Layer (type)                 Output Shape              Param #   \n",
      "=================================================================\n",
      "conv2d (Conv2D)              (None, 32, 32, 32)        896       \n",
      "_________________________________________________________________\n",
      "activation (Activation)      (None, 32, 32, 32)        0         \n",
      "_________________________________________________________________\n",
      "conv2d_1 (Conv2D)            (None, 30, 30, 32)        9248      \n",
      "_________________________________________________________________\n",
      "activation_1 (Activation)    (None, 30, 30, 32)        0         \n",
      "_________________________________________________________________\n",
      "max_pooling2d (MaxPooling2D) (None, 15, 15, 32)        0         \n",
      "_________________________________________________________________\n",
      "dropout (Dropout)            (None, 15, 15, 32)        0         \n",
      "_________________________________________________________________\n",
      "conv2d_2 (Conv2D)            (None, 15, 15, 64)        18496     \n",
      "_________________________________________________________________\n",
      "activation_2 (Activation)    (None, 15, 15, 64)        0         \n",
      "_________________________________________________________________\n",
      "conv2d_3 (Conv2D)            (None, 13, 13, 64)        36928     \n",
      "_________________________________________________________________\n",
      "activation_3 (Activation)    (None, 13, 13, 64)        0         \n",
      "_________________________________________________________________\n",
      "max_pooling2d_1 (MaxPooling2 (None, 6, 6, 64)          0         \n",
      "_________________________________________________________________\n",
      "dropout_1 (Dropout)          (None, 6, 6, 64)          0         \n",
      "_________________________________________________________________\n",
      "global_average_pooling2d (Gl (None, 64)                0         \n",
      "_________________________________________________________________\n",
      "dense (Dense)                (None, 64)                4160      \n",
      "_________________________________________________________________\n",
      "activation_4 (Activation)    (None, 64)                0         \n",
      "_________________________________________________________________\n",
      "dense_1 (Dense)              (None, 32)                2080      \n",
      "_________________________________________________________________\n",
      "activation_5 (Activation)    (None, 32)                0         \n",
      "_________________________________________________________________\n",
      "dropout_2 (Dropout)          (None, 32)                0         \n",
      "_________________________________________________________________\n",
      "dense_2 (Dense)              (None, 10)                330       \n",
      "_________________________________________________________________\n",
      "activation_6 (Activation)    (None, 10)                0         \n",
      "=================================================================\n",
      "Total params: 72,138\n",
      "Trainable params: 72,138\n",
      "Non-trainable params: 0\n",
      "_________________________________________________________________\n"
     ]
    }
   ],
   "source": [
    "# конфигурирование слоев нейросети\n",
    "model_1 = Sequential()\n",
    "\n",
    "# слои нейросети отвественные за свертку и max-pooling\n",
    "model_1.add(Conv2D(32, (3, 3), padding='same', input_shape=X_train.shape[1:]))\n",
    "model_1.add(Activation('relu'))\n",
    "model_1.add(Conv2D(32, (3, 3)))\n",
    "model_1.add(Activation('relu'))\n",
    "model_1.add(MaxPooling2D(pool_size=(2, 2)))\n",
    "model_1.add(Dropout(0.25))\n",
    "\n",
    "model_1.add(Conv2D(64, (3, 3), padding='same'))\n",
    "model_1.add(Activation('relu'))\n",
    "model_1.add(Conv2D(64, (3, 3)))\n",
    "model_1.add(Activation('relu'))\n",
    "model_1.add(MaxPooling2D(pool_size=(2, 2)))\n",
    "model_1.add(Dropout(0.25))\n",
    "\n",
    "# полносвязные слои нейронной сети\n",
    "model_1.add(GlobalAveragePooling2D())\n",
    "model_1.add(Dense(64))\n",
    "model_1.add(Activation('relu'))\n",
    "model_1.add(Dense(32))\n",
    "model_1.add(Activation('relu'))\n",
    "model_1.add(Dropout(0.5))\n",
    "model_1.add(Dense(num_classes))\n",
    "model_1.add(Activation('softmax'))\n",
    "\n",
    "model_1.summary()\n",
    "# компиляция модели\n",
    "model_1.compile(loss='categorical_crossentropy',\n",
    "                optimizer='Adam',\n",
    "                metrics=['accuracy'])"
   ]
  },
  {
   "cell_type": "code",
   "execution_count": 10,
   "id": "6fa493a9",
   "metadata": {
    "execution": {
     "iopub.execute_input": "2022-11-29T11:55:33.201511Z",
     "iopub.status.busy": "2022-11-29T11:55:33.201159Z",
     "iopub.status.idle": "2022-11-29T11:56:30.880047Z",
     "shell.execute_reply": "2022-11-29T11:56:30.878934Z"
    },
    "papermill": {
     "duration": 57.69555,
     "end_time": "2022-11-29T11:56:30.882483",
     "exception": false,
     "start_time": "2022-11-29T11:55:33.186933",
     "status": "completed"
    },
    "tags": []
   },
   "outputs": [
    {
     "name": "stderr",
     "output_type": "stream",
     "text": [
      "2022-11-29 11:55:35.254632: I tensorflow/compiler/mlir/mlir_graph_optimization_pass.cc:185] None of the MLIR Optimization Passes are enabled (registered 2)\n"
     ]
    },
    {
     "name": "stdout",
     "output_type": "stream",
     "text": [
      "Epoch 1/10\n"
     ]
    },
    {
     "name": "stderr",
     "output_type": "stream",
     "text": [
      "2022-11-29 11:55:36.742586: I tensorflow/stream_executor/cuda/cuda_dnn.cc:369] Loaded cuDNN version 8005\n"
     ]
    },
    {
     "name": "stdout",
     "output_type": "stream",
     "text": [
      "782/782 [==============================] - 12s 7ms/step - loss: 1.9668 - accuracy: 0.2310 - val_loss: 1.7030 - val_accuracy: 0.3347\n",
      "Epoch 2/10\n",
      "782/782 [==============================] - 5s 6ms/step - loss: 1.7058 - accuracy: 0.3374 - val_loss: 1.5262 - val_accuracy: 0.4203\n",
      "Epoch 3/10\n",
      "782/782 [==============================] - 5s 6ms/step - loss: 1.5721 - accuracy: 0.4001 - val_loss: 1.4383 - val_accuracy: 0.4633\n",
      "Epoch 4/10\n",
      "782/782 [==============================] - 5s 6ms/step - loss: 1.4837 - accuracy: 0.4488 - val_loss: 1.2953 - val_accuracy: 0.5208\n",
      "Epoch 5/10\n",
      "782/782 [==============================] - 5s 6ms/step - loss: 1.4182 - accuracy: 0.4775 - val_loss: 1.2276 - val_accuracy: 0.5504\n",
      "Epoch 6/10\n",
      "782/782 [==============================] - 5s 6ms/step - loss: 1.3477 - accuracy: 0.5092 - val_loss: 1.1548 - val_accuracy: 0.5907\n",
      "Epoch 7/10\n",
      "782/782 [==============================] - 5s 6ms/step - loss: 1.3009 - accuracy: 0.5350 - val_loss: 1.1049 - val_accuracy: 0.6055\n",
      "Epoch 8/10\n",
      "782/782 [==============================] - 5s 6ms/step - loss: 1.2440 - accuracy: 0.5576 - val_loss: 1.0478 - val_accuracy: 0.6308\n",
      "Epoch 9/10\n",
      "782/782 [==============================] - 5s 6ms/step - loss: 1.1952 - accuracy: 0.5775 - val_loss: 1.0419 - val_accuracy: 0.6304\n",
      "Epoch 10/10\n",
      "782/782 [==============================] - 5s 6ms/step - loss: 1.1505 - accuracy: 0.5974 - val_loss: 0.9863 - val_accuracy: 0.6439\n"
     ]
    }
   ],
   "source": [
    "history_1 = model_1.fit(X_train, y_train,\n",
    "                        batch_size=batch_size,\n",
    "                        epochs=epochs,\n",
    "                        validation_data=(X_test, y_test))"
   ]
  },
  {
   "cell_type": "code",
   "execution_count": 11,
   "id": "fb39da28",
   "metadata": {
    "execution": {
     "iopub.execute_input": "2022-11-29T11:56:31.001996Z",
     "iopub.status.busy": "2022-11-29T11:56:31.000947Z",
     "iopub.status.idle": "2022-11-29T11:56:39.095465Z",
     "shell.execute_reply": "2022-11-29T11:56:39.094310Z"
    },
    "papermill": {
     "duration": 8.156625,
     "end_time": "2022-11-29T11:56:39.097641",
     "exception": false,
     "start_time": "2022-11-29T11:56:30.941016",
     "status": "completed"
    },
    "tags": []
   },
   "outputs": [
    {
     "name": "stdout",
     "output_type": "stream",
     "text": [
      "1563/1563 - 4s - loss: 0.9345 - accuracy: 0.6635\n",
      "313/313 - 1s - loss: 0.9863 - accuracy: 0.6439\n",
      "train_loss: 0.934499204158783, train_accuracy: 0.6634799838066101\n",
      "test_loss: 0.9863442182540894, test_accuracy: 0.6438999772071838\n"
     ]
    }
   ],
   "source": [
    "train_loss, train_m = model_1.evaluate(X_train, y_train, verbose=2)\n",
    "test_loss, test_m = model_1.evaluate(X_test, y_test, verbose=2)\n",
    "print(f'train_loss: {train_loss}, train_accuracy: {train_m}')\n",
    "print(f'test_loss: {test_loss}, test_accuracy: {test_m}')\n",
    "\n",
    "step.append(1)\n",
    "desc.append('Базовая модель')\n",
    "train_acc.append(round(train_m, 2))\n",
    "test_acc.append(round(test_m, 2))"
   ]
  },
  {
   "cell_type": "code",
   "execution_count": 12,
   "id": "73aa783f",
   "metadata": {
    "execution": {
     "iopub.execute_input": "2022-11-29T11:56:39.219648Z",
     "iopub.status.busy": "2022-11-29T11:56:39.217901Z",
     "iopub.status.idle": "2022-11-29T11:56:39.622479Z",
     "shell.execute_reply": "2022-11-29T11:56:39.621438Z"
    },
    "papermill": {
     "duration": 0.467993,
     "end_time": "2022-11-29T11:56:39.625045",
     "exception": false,
     "start_time": "2022-11-29T11:56:39.157052",
     "status": "completed"
    },
    "tags": []
   },
   "outputs": [
    {
     "data": {
      "image/png": "[encoded data removed]",
      "text/plain": [
       "<Figure size 432x288 with 1 Axes>"
      ]
     },
     "metadata": {
      "needs_background": "light"
     },
     "output_type": "display_data"
    }
   ],
   "source": [
    "N = 5\n",
    "y_p = model_1.predict(X_test[N:N+1])\n",
    "y_t = np.argmax(y_test[N:N+1], axis = 1 )\n",
    "y_i = np.argmax(y_p, axis = 1 )\n",
    "plt.imshow(X_test[N])\n",
    "plt.title(f'это : {classes[y_t[0]]} - опознан как : {classes[y_i[0]]}')\n",
    "plt.show()"
   ]
  },
  {
   "cell_type": "code",
   "execution_count": 13,
   "id": "6baded6f",
   "metadata": {
    "execution": {
     "iopub.execute_input": "2022-11-29T11:56:39.741050Z",
     "iopub.status.busy": "2022-11-29T11:56:39.740702Z",
     "iopub.status.idle": "2022-11-29T11:56:39.844147Z",
     "shell.execute_reply": "2022-11-29T11:56:39.842866Z"
    },
    "papermill": {
     "duration": 0.163137,
     "end_time": "2022-11-29T11:56:39.846946",
     "exception": false,
     "start_time": "2022-11-29T11:56:39.683809",
     "status": "completed"
    },
    "tags": []
   },
   "outputs": [
    {
     "name": "stdout",
     "output_type": "stream",
     "text": [
      "Model: \"sequential_1\"\n",
      "_________________________________________________________________\n",
      "Layer (type)                 Output Shape              Param #   \n",
      "=================================================================\n",
      "conv2d_4 (Conv2D)            (None, 32, 32, 32)        896       \n",
      "_________________________________________________________________\n",
      "activation_7 (Activation)    (None, 32, 32, 32)        0         \n",
      "_________________________________________________________________\n",
      "conv2d_5 (Conv2D)            (None, 30, 30, 64)        18496     \n",
      "_________________________________________________________________\n",
      "activation_8 (Activation)    (None, 30, 30, 64)        0         \n",
      "_________________________________________________________________\n",
      "max_pooling2d_2 (MaxPooling2 (None, 15, 15, 64)        0         \n",
      "_________________________________________________________________\n",
      "dropout_3 (Dropout)          (None, 15, 15, 64)        0         \n",
      "_________________________________________________________________\n",
      "conv2d_6 (Conv2D)            (None, 15, 15, 128)       73856     \n",
      "_________________________________________________________________\n",
      "activation_9 (Activation)    (None, 15, 15, 128)       0         \n",
      "_________________________________________________________________\n",
      "conv2d_7 (Conv2D)            (None, 13, 13, 256)       295168    \n",
      "_________________________________________________________________\n",
      "activation_10 (Activation)   (None, 13, 13, 256)       0         \n",
      "_________________________________________________________________\n",
      "max_pooling2d_3 (MaxPooling2 (None, 6, 6, 256)         0         \n",
      "_________________________________________________________________\n",
      "dropout_4 (Dropout)          (None, 6, 6, 256)         0         \n",
      "_________________________________________________________________\n",
      "global_average_pooling2d_1 ( (None, 256)               0         \n",
      "_________________________________________________________________\n",
      "dense_3 (Dense)              (None, 64)                16448     \n",
      "_________________________________________________________________\n",
      "activation_11 (Activation)   (None, 64)                0         \n",
      "_________________________________________________________________\n",
      "dense_4 (Dense)              (None, 32)                2080      \n",
      "_________________________________________________________________\n",
      "activation_12 (Activation)   (None, 32)                0         \n",
      "_________________________________________________________________\n",
      "dropout_5 (Dropout)          (None, 32)                0         \n",
      "_________________________________________________________________\n",
      "dense_5 (Dense)              (None, 10)                330       \n",
      "_________________________________________________________________\n",
      "activation_13 (Activation)   (None, 10)                0         \n",
      "=================================================================\n",
      "Total params: 407,274\n",
      "Trainable params: 407,274\n",
      "Non-trainable params: 0\n",
      "_________________________________________________________________\n"
     ]
    }
   ],
   "source": [
    "# конфигурирование слоев нейросети\n",
    "model_2 = Sequential()\n",
    "\n",
    "# слои нейросети отвественные за свертку и max-pooling\n",
    "model_2.add(Conv2D(32, (3, 3), padding='same', input_shape=X_train.shape[1:]))\n",
    "model_2.add(Activation('relu'))\n",
    "model_2.add(Conv2D(64, (3, 3)))\n",
    "model_2.add(Activation('relu'))\n",
    "model_2.add(MaxPooling2D(pool_size=(2, 2)))\n",
    "model_2.add(Dropout(0.25))\n",
    "\n",
    "model_2.add(Conv2D(128, (3, 3), padding='same'))\n",
    "model_2.add(Activation('relu'))\n",
    "model_2.add(Conv2D(256, (3, 3)))\n",
    "model_2.add(Activation('relu'))\n",
    "model_2.add(MaxPooling2D(pool_size=(2, 2)))\n",
    "model_2.add(Dropout(0.25))\n",
    "\n",
    "# полносвязные слои нейронной сети\n",
    "model_2.add(GlobalAveragePooling2D())\n",
    "model_2.add(Dense(64))\n",
    "model_2.add(Activation('relu'))\n",
    "model_2.add(Dense(32))\n",
    "model_2.add(Activation('relu'))\n",
    "model_2.add(Dropout(0.5))\n",
    "model_2.add(Dense(num_classes))\n",
    "model_2.add(Activation('softmax'))\n",
    "\n",
    "model_2.summary()\n",
    "# компиляция модели\n",
    "model_2.compile(loss='categorical_crossentropy',\n",
    "                optimizer='Adam',\n",
    "                metrics=['accuracy'])"
   ]
  },
  {
   "cell_type": "code",
   "execution_count": 14,
   "id": "889e27dd",
   "metadata": {
    "execution": {
     "iopub.execute_input": "2022-11-29T11:56:39.961343Z",
     "iopub.status.busy": "2022-11-29T11:56:39.960592Z",
     "iopub.status.idle": "2022-11-29T11:57:50.199922Z",
     "shell.execute_reply": "2022-11-29T11:57:50.198934Z"
    },
    "papermill": {
     "duration": 70.298538,
     "end_time": "2022-11-29T11:57:50.202177",
     "exception": false,
     "start_time": "2022-11-29T11:56:39.903639",
     "status": "completed"
    },
    "tags": []
   },
   "outputs": [
    {
     "name": "stdout",
     "output_type": "stream",
     "text": [
      "Epoch 1/10\n",
      "782/782 [==============================] - 8s 9ms/step - loss: 1.9672 - accuracy: 0.2364 - val_loss: 1.6760 - val_accuracy: 0.3513\n",
      "Epoch 2/10\n",
      "782/782 [==============================] - 7s 9ms/step - loss: 1.6208 - accuracy: 0.3919 - val_loss: 1.4477 - val_accuracy: 0.4639\n",
      "Epoch 3/10\n",
      "782/782 [==============================] - 7s 9ms/step - loss: 1.4596 - accuracy: 0.4714 - val_loss: 1.2544 - val_accuracy: 0.5402\n",
      "Epoch 4/10\n",
      "782/782 [==============================] - 7s 8ms/step - loss: 1.3555 - accuracy: 0.5145 - val_loss: 1.2167 - val_accuracy: 0.5501\n",
      "Epoch 5/10\n",
      "782/782 [==============================] - 7s 9ms/step - loss: 1.2729 - accuracy: 0.5500 - val_loss: 1.0636 - val_accuracy: 0.6188\n",
      "Epoch 6/10\n",
      "782/782 [==============================] - 7s 8ms/step - loss: 1.1928 - accuracy: 0.5827 - val_loss: 1.0671 - val_accuracy: 0.6266\n",
      "Epoch 7/10\n",
      "782/782 [==============================] - 7s 9ms/step - loss: 1.1165 - accuracy: 0.6125 - val_loss: 0.9409 - val_accuracy: 0.6685\n",
      "Epoch 8/10\n",
      "782/782 [==============================] - 7s 9ms/step - loss: 1.0646 - accuracy: 0.6320 - val_loss: 0.9429 - val_accuracy: 0.6726\n",
      "Epoch 9/10\n",
      "782/782 [==============================] - 7s 8ms/step - loss: 1.0204 - accuracy: 0.6495 - val_loss: 0.8637 - val_accuracy: 0.7009\n",
      "Epoch 10/10\n",
      "782/782 [==============================] - 7s 8ms/step - loss: 0.9771 - accuracy: 0.6669 - val_loss: 0.8595 - val_accuracy: 0.7002\n"
     ]
    }
   ],
   "source": [
    "history_2 = model_2.fit(X_train, y_train,\n",
    "                        batch_size=batch_size,\n",
    "                        epochs=epochs,\n",
    "                        validation_data=(X_test, y_test))"
   ]
  },
  {
   "cell_type": "code",
   "execution_count": 15,
   "id": "53a2ac7c",
   "metadata": {
    "execution": {
     "iopub.execute_input": "2022-11-29T11:57:50.440919Z",
     "iopub.status.busy": "2022-11-29T11:57:50.439874Z",
     "iopub.status.idle": "2022-11-29T11:57:57.963223Z",
     "shell.execute_reply": "2022-11-29T11:57:57.962070Z"
    },
    "papermill": {
     "duration": 7.642059,
     "end_time": "2022-11-29T11:57:57.965631",
     "exception": false,
     "start_time": "2022-11-29T11:57:50.323572",
     "status": "completed"
    },
    "tags": []
   },
   "outputs": [
    {
     "name": "stdout",
     "output_type": "stream",
     "text": [
      "1563/1563 - 4s - loss: 0.7693 - accuracy: 0.7301\n",
      "313/313 - 1s - loss: 0.8595 - accuracy: 0.7002\n",
      "train_loss: 0.7693064212799072, train_accuracy: 0.7300999760627747\n",
      "test_loss: 0.8595002889633179, test_accuracy: 0.7002000212669373\n"
     ]
    }
   ],
   "source": [
    "train_loss, train_m = model_2.evaluate(X_train, y_train, verbose=2)\n",
    "test_loss, test_m = model_2.evaluate(X_test, y_test, verbose=2)\n",
    "print(f'train_loss: {train_loss}, train_accuracy: {train_m}')\n",
    "print(f'test_loss: {test_loss}, test_accuracy: {test_m}')\n",
    "\n",
    "step.append(2)\n",
    "desc.append('Шире - больше каналов')\n",
    "train_acc.append(round(train_m, 2))\n",
    "test_acc.append(round(test_m, 2))"
   ]
  },
  {
   "cell_type": "code",
   "execution_count": 16,
   "id": "c9bc178e",
   "metadata": {
    "execution": {
     "iopub.execute_input": "2022-11-29T11:57:58.206966Z",
     "iopub.status.busy": "2022-11-29T11:57:58.206565Z",
     "iopub.status.idle": "2022-11-29T11:57:58.571575Z",
     "shell.execute_reply": "2022-11-29T11:57:58.570442Z"
    },
    "papermill": {
     "duration": 0.489086,
     "end_time": "2022-11-29T11:57:58.574063",
     "exception": false,
     "start_time": "2022-11-29T11:57:58.084977",
     "status": "completed"
    },
    "tags": []
   },
   "outputs": [
    {
     "data": {
      "image/png": "[encoded data removed]",
      "text/plain": [
       "<Figure size 432x288 with 1 Axes>"
      ]
     },
     "metadata": {
      "needs_background": "light"
     },
     "output_type": "display_data"
    }
   ],
   "source": [
    "N = 15\n",
    "y_p = model_2.predict(X_test[N:N+1])\n",
    "y_t = np.argmax(y_test[N:N+1], axis = 1 )\n",
    "y_i = np.argmax(y_p, axis = 1 )\n",
    "plt.imshow(X_test[N])\n",
    "plt.title(f'это : {classes[y_t[0]]} - опознан как : {classes[y_i[0]]}')\n",
    "plt.show()"
   ]
  },
  {
   "cell_type": "code",
   "execution_count": 17,
   "id": "25ccff21",
   "metadata": {
    "execution": {
     "iopub.execute_input": "2022-11-29T11:57:58.818246Z",
     "iopub.status.busy": "2022-11-29T11:57:58.817842Z",
     "iopub.status.idle": "2022-11-29T11:57:58.954020Z",
     "shell.execute_reply": "2022-11-29T11:57:58.952453Z"
    },
    "papermill": {
     "duration": 0.260293,
     "end_time": "2022-11-29T11:57:58.956563",
     "exception": false,
     "start_time": "2022-11-29T11:57:58.696270",
     "status": "completed"
    },
    "tags": []
   },
   "outputs": [
    {
     "name": "stdout",
     "output_type": "stream",
     "text": [
      "Model: \"sequential_2\"\n",
      "_________________________________________________________________\n",
      "Layer (type)                 Output Shape              Param #   \n",
      "=================================================================\n",
      "conv2d_8 (Conv2D)            (None, 32, 32, 32)        896       \n",
      "_________________________________________________________________\n",
      "activation_14 (Activation)   (None, 32, 32, 32)        0         \n",
      "_________________________________________________________________\n",
      "conv2d_9 (Conv2D)            (None, 30, 30, 32)        9248      \n",
      "_________________________________________________________________\n",
      "activation_15 (Activation)   (None, 30, 30, 32)        0         \n",
      "_________________________________________________________________\n",
      "max_pooling2d_4 (MaxPooling2 (None, 15, 15, 32)        0         \n",
      "_________________________________________________________________\n",
      "dropout_6 (Dropout)          (None, 15, 15, 32)        0         \n",
      "_________________________________________________________________\n",
      "conv2d_10 (Conv2D)           (None, 15, 15, 64)        18496     \n",
      "_________________________________________________________________\n",
      "activation_16 (Activation)   (None, 15, 15, 64)        0         \n",
      "_________________________________________________________________\n",
      "conv2d_11 (Conv2D)           (None, 13, 13, 64)        36928     \n",
      "_________________________________________________________________\n",
      "activation_17 (Activation)   (None, 13, 13, 64)        0         \n",
      "_________________________________________________________________\n",
      "max_pooling2d_5 (MaxPooling2 (None, 6, 6, 64)          0         \n",
      "_________________________________________________________________\n",
      "dropout_7 (Dropout)          (None, 6, 6, 64)          0         \n",
      "_________________________________________________________________\n",
      "conv2d_12 (Conv2D)           (None, 6, 6, 64)          36928     \n",
      "_________________________________________________________________\n",
      "activation_18 (Activation)   (None, 6, 6, 64)          0         \n",
      "_________________________________________________________________\n",
      "conv2d_13 (Conv2D)           (None, 4, 4, 64)          36928     \n",
      "_________________________________________________________________\n",
      "activation_19 (Activation)   (None, 4, 4, 64)          0         \n",
      "_________________________________________________________________\n",
      "max_pooling2d_6 (MaxPooling2 (None, 2, 2, 64)          0         \n",
      "_________________________________________________________________\n",
      "dropout_8 (Dropout)          (None, 2, 2, 64)          0         \n",
      "_________________________________________________________________\n",
      "global_average_pooling2d_2 ( (None, 64)                0         \n",
      "_________________________________________________________________\n",
      "dense_6 (Dense)              (None, 64)                4160      \n",
      "_________________________________________________________________\n",
      "activation_20 (Activation)   (None, 64)                0         \n",
      "_________________________________________________________________\n",
      "dense_7 (Dense)              (None, 32)                2080      \n",
      "_________________________________________________________________\n",
      "activation_21 (Activation)   (None, 32)                0         \n",
      "_________________________________________________________________\n",
      "dropout_9 (Dropout)          (None, 32)                0         \n",
      "_________________________________________________________________\n",
      "dense_8 (Dense)              (None, 10)                330       \n",
      "_________________________________________________________________\n",
      "activation_22 (Activation)   (None, 10)                0         \n",
      "=================================================================\n",
      "Total params: 145,994\n",
      "Trainable params: 145,994\n",
      "Non-trainable params: 0\n",
      "_________________________________________________________________\n"
     ]
    }
   ],
   "source": [
    "# конфигурирование слоев нейросети\n",
    "model_3 = Sequential()\n",
    "\n",
    "# слои нейросети отвественные за свертку и max-pooling\n",
    "model_3.add(Conv2D(32, (3, 3), padding='same', input_shape=X_train.shape[1:]))\n",
    "model_3.add(Activation('relu'))\n",
    "model_3.add(Conv2D(32, (3, 3)))\n",
    "model_3.add(Activation('relu'))\n",
    "model_3.add(MaxPooling2D(pool_size=(2, 2)))\n",
    "model_3.add(Dropout(0.25))\n",
    "\n",
    "model_3.add(Conv2D(64, (3, 3), padding='same'))\n",
    "model_3.add(Activation('relu'))\n",
    "model_3.add(Conv2D(64, (3, 3)))\n",
    "model_3.add(Activation('relu'))\n",
    "model_3.add(MaxPooling2D(pool_size=(2, 2)))\n",
    "model_3.add(Dropout(0.25))\n",
    "\n",
    "model_3.add(Conv2D(64, (3, 3), padding='same'))\n",
    "model_3.add(Activation('relu'))\n",
    "model_3.add(Conv2D(64, (3, 3)))\n",
    "model_3.add(Activation('relu'))\n",
    "model_3.add(MaxPooling2D(pool_size=(2, 2)))\n",
    "model_3.add(Dropout(0.25))\n",
    "\n",
    "\n",
    "# полносвязные слои нейронной сети\n",
    "model_3.add(GlobalAveragePooling2D())\n",
    "model_3.add(Dense(64))\n",
    "model_3.add(Activation('relu'))\n",
    "model_3.add(Dense(32))\n",
    "model_3.add(Activation('relu'))\n",
    "model_3.add(Dropout(0.5))\n",
    "model_3.add(Dense(num_classes))\n",
    "model_3.add(Activation('softmax'))\n",
    "\n",
    "model_3.summary()\n",
    "# компиляция модели\n",
    "model_3.compile(loss='categorical_crossentropy',\n",
    "                optimizer='Adam',\n",
    "                metrics=['accuracy'])"
   ]
  },
  {
   "cell_type": "code",
   "execution_count": 18,
   "id": "45713eab",
   "metadata": {
    "execution": {
     "iopub.execute_input": "2022-11-29T11:57:59.261544Z",
     "iopub.status.busy": "2022-11-29T11:57:59.261136Z",
     "iopub.status.idle": "2022-11-29T11:59:23.998799Z",
     "shell.execute_reply": "2022-11-29T11:59:23.997427Z"
    },
    "papermill": {
     "duration": 84.865935,
     "end_time": "2022-11-29T11:59:24.001334",
     "exception": false,
     "start_time": "2022-11-29T11:57:59.135399",
     "status": "completed"
    },
    "tags": []
   },
   "outputs": [
    {
     "name": "stdout",
     "output_type": "stream",
     "text": [
      "Epoch 1/10\n",
      "782/782 [==============================] - 6s 7ms/step - loss: 1.9612 - accuracy: 0.2370 - val_loss: 1.6560 - val_accuracy: 0.3740\n",
      "Epoch 2/10\n",
      "782/782 [==============================] - 5s 7ms/step - loss: 1.6114 - accuracy: 0.3943 - val_loss: 1.3230 - val_accuracy: 0.5072\n",
      "Epoch 3/10\n",
      "782/782 [==============================] - 5s 6ms/step - loss: 1.4089 - accuracy: 0.4953 - val_loss: 1.2307 - val_accuracy: 0.5666\n",
      "Epoch 4/10\n",
      "782/782 [==============================] - 5s 7ms/step - loss: 1.2915 - accuracy: 0.5461 - val_loss: 1.1049 - val_accuracy: 0.5973\n",
      "Epoch 5/10\n",
      "782/782 [==============================] - 5s 6ms/step - loss: 1.1915 - accuracy: 0.5874 - val_loss: 1.0301 - val_accuracy: 0.6285\n",
      "Epoch 6/10\n",
      "782/782 [==============================] - 6s 7ms/step - loss: 1.1200 - accuracy: 0.6149 - val_loss: 0.9494 - val_accuracy: 0.6649\n",
      "Epoch 7/10\n",
      "782/782 [==============================] - 5s 6ms/step - loss: 1.0659 - accuracy: 0.6362 - val_loss: 0.9164 - val_accuracy: 0.6887\n",
      "Epoch 8/10\n",
      "782/782 [==============================] - 5s 7ms/step - loss: 1.0177 - accuracy: 0.6560 - val_loss: 0.8506 - val_accuracy: 0.7057\n",
      "Epoch 9/10\n",
      "782/782 [==============================] - 5s 6ms/step - loss: 0.9746 - accuracy: 0.6693 - val_loss: 0.8137 - val_accuracy: 0.7181\n",
      "Epoch 10/10\n",
      "782/782 [==============================] - 5s 7ms/step - loss: 0.9459 - accuracy: 0.6811 - val_loss: 0.8110 - val_accuracy: 0.7272\n"
     ]
    }
   ],
   "source": [
    "history_3 = model_3.fit(X_train, y_train,\n",
    "                        batch_size=batch_size,\n",
    "                        epochs=epochs,\n",
    "                        validation_data=(X_test, y_test))"
   ]
  },
  {
   "cell_type": "code",
   "execution_count": 19,
   "id": "f8de1caf",
   "metadata": {
    "execution": {
     "iopub.execute_input": "2022-11-29T11:59:24.352168Z",
     "iopub.status.busy": "2022-11-29T11:59:24.351408Z",
     "iopub.status.idle": "2022-11-29T11:59:31.004805Z",
     "shell.execute_reply": "2022-11-29T11:59:31.003441Z"
    },
    "papermill": {
     "duration": 6.828205,
     "end_time": "2022-11-29T11:59:31.006983",
     "exception": false,
     "start_time": "2022-11-29T11:59:24.178778",
     "status": "completed"
    },
    "tags": []
   },
   "outputs": [
    {
     "name": "stdout",
     "output_type": "stream",
     "text": [
      "1563/1563 - 4s - loss: 0.6949 - accuracy: 0.7551\n",
      "313/313 - 1s - loss: 0.8110 - accuracy: 0.7272\n",
      "train_loss: 0.6949465870857239, train_accuracy: 0.7551199793815613\n",
      "test_loss: 0.8110464811325073, test_accuracy: 0.7271999716758728\n"
     ]
    }
   ],
   "source": [
    "train_loss, train_m = model_3.evaluate(X_train, y_train, verbose=2)\n",
    "test_loss, test_m = model_3.evaluate(X_test, y_test, verbose=2)\n",
    "print(f'train_loss: {train_loss}, train_accuracy: {train_m}')\n",
    "print(f'test_loss: {test_loss}, test_accuracy: {test_m}')\n",
    "\n",
    "step.append(3)\n",
    "desc.append('Глубже - больше слоев')\n",
    "train_acc.append(round(train_m,2))"
   ]
  },
  {
   "cell_type": "code",
   "execution_count": 20,
   "id": "23c35617",
   "metadata": {
    "execution": {
     "iopub.execute_input": "2022-11-29T11:59:31.347550Z",
     "iopub.status.busy": "2022-11-29T11:59:31.346465Z",
     "iopub.status.idle": "2022-11-29T11:59:31.725248Z",
     "shell.execute_reply": "2022-11-29T11:59:31.724311Z"
    },
    "papermill": {
     "duration": 0.552266,
     "end_time": "2022-11-29T11:59:31.727476",
     "exception": false,
     "start_time": "2022-11-29T11:59:31.175210",
     "status": "completed"
    },
    "tags": []
   },
   "outputs": [
    {
     "data": {
      "image/png": "[encoded data removed]",
      "text/plain": [
       "<Figure size 432x288 with 1 Axes>"
      ]
     },
     "metadata": {
      "needs_background": "light"
     },
     "output_type": "display_data"
    }
   ],
   "source": [
    "N = 20\n",
    "y_p = model_3.predict(X_test[N:N+1])\n",
    "y_t = np.argmax(y_test[N:N+1], axis = 1 )\n",
    "y_i = np.argmax(y_p, axis = 1 )\n",
    "plt.imshow(X_test[N])\n",
    "plt.title(f'это : {classes[y_t[0]]} - опознан как : {classes[y_i[0]]}')\n",
    "plt.show()"
   ]
  },
  {
   "cell_type": "code",
   "execution_count": 21,
   "id": "c689ecd1",
   "metadata": {
    "execution": {
     "iopub.execute_input": "2022-11-29T11:59:32.072948Z",
     "iopub.status.busy": "2022-11-29T11:59:32.072546Z",
     "iopub.status.idle": "2022-11-29T11:59:32.121623Z",
     "shell.execute_reply": "2022-11-29T11:59:32.120583Z"
    },
    "papermill": {
     "duration": 0.225409,
     "end_time": "2022-11-29T11:59:32.124212",
     "exception": false,
     "start_time": "2022-11-29T11:59:31.898803",
     "status": "completed"
    },
    "tags": []
   },
   "outputs": [
    {
     "name": "stdout",
     "output_type": "stream",
     "text": [
      "Model: \"sequential_3\"\n",
      "_________________________________________________________________\n",
      "Layer (type)                 Output Shape              Param #   \n",
      "=================================================================\n",
      "flatten (Flatten)            (None, 3072)              0         \n",
      "_________________________________________________________________\n",
      "dense_9 (Dense)              (None, 512)               1573376   \n",
      "_________________________________________________________________\n",
      "activation_23 (Activation)   (None, 512)               0         \n",
      "_________________________________________________________________\n",
      "dense_10 (Dense)             (None, 256)               131328    \n",
      "_________________________________________________________________\n",
      "activation_24 (Activation)   (None, 256)               0         \n",
      "_________________________________________________________________\n",
      "dropout_10 (Dropout)         (None, 256)               0         \n",
      "_________________________________________________________________\n",
      "dense_11 (Dense)             (None, 10)                2570      \n",
      "_________________________________________________________________\n",
      "activation_25 (Activation)   (None, 10)                0         \n",
      "=================================================================\n",
      "Total params: 1,707,274\n",
      "Trainable params: 1,707,274\n",
      "Non-trainable params: 0\n",
      "_________________________________________________________________\n"
     ]
    }
   ],
   "source": [
    "# конфигурирование слоев нейросети\n",
    "model_4 = Sequential()\n",
    "\n",
    "# полносвязные слои нейронной сети\n",
    "model_4.add(Flatten(input_shape=X_train.shape[1:]))\n",
    "model_4.add(Dense(512))\n",
    "model_4.add(Activation('relu'))\n",
    "model_4.add(Dense(256))\n",
    "model_4.add(Activation('relu'))\n",
    "model_4.add(Dropout(0.5))\n",
    "model_4.add(Dense(num_classes))\n",
    "model_4.add(Activation('softmax'))\n",
    "\n",
    "model_4.summary()\n",
    "# компиляция модели\n",
    "model_4.compile(loss='categorical_crossentropy',\n",
    "                optimizer='Adam',\n",
    "                metrics=['accuracy'])"
   ]
  },
  {
   "cell_type": "code",
   "execution_count": 22,
   "id": "f19aa4af",
   "metadata": {
    "execution": {
     "iopub.execute_input": "2022-11-29T11:59:32.473627Z",
     "iopub.status.busy": "2022-11-29T11:59:32.472442Z",
     "iopub.status.idle": "2022-11-29T12:00:01.449432Z",
     "shell.execute_reply": "2022-11-29T12:00:01.448103Z"
    },
    "papermill": {
     "duration": 29.153065,
     "end_time": "2022-11-29T12:00:01.452612",
     "exception": false,
     "start_time": "2022-11-29T11:59:32.299547",
     "status": "completed"
    },
    "tags": []
   },
   "outputs": [
    {
     "name": "stdout",
     "output_type": "stream",
     "text": [
      "Epoch 1/10\n",
      "782/782 [==============================] - 4s 5ms/step - loss: 1.9846 - accuracy: 0.2772 - val_loss: 1.7569 - val_accuracy: 0.3725\n",
      "Epoch 2/10\n",
      "782/782 [==============================] - 2s 3ms/step - loss: 1.7733 - accuracy: 0.3608 - val_loss: 1.6894 - val_accuracy: 0.3948\n",
      "Epoch 3/10\n",
      "782/782 [==============================] - 2s 3ms/step - loss: 1.7115 - accuracy: 0.3867 - val_loss: 1.6135 - val_accuracy: 0.4287\n",
      "Epoch 4/10\n",
      "782/782 [==============================] - 2s 3ms/step - loss: 1.6489 - accuracy: 0.4107 - val_loss: 1.6227 - val_accuracy: 0.4127\n",
      "Epoch 5/10\n",
      "782/782 [==============================] - 3s 3ms/step - loss: 1.6161 - accuracy: 0.4224 - val_loss: 1.5594 - val_accuracy: 0.4493\n",
      "Epoch 6/10\n",
      "782/782 [==============================] - 3s 4ms/step - loss: 1.5883 - accuracy: 0.4339 - val_loss: 1.5481 - val_accuracy: 0.4459\n",
      "Epoch 7/10\n",
      "782/782 [==============================] - 2s 3ms/step - loss: 1.5692 - accuracy: 0.4402 - val_loss: 1.5162 - val_accuracy: 0.4599\n",
      "Epoch 8/10\n",
      "782/782 [==============================] - 2s 3ms/step - loss: 1.5528 - accuracy: 0.4437 - val_loss: 1.5604 - val_accuracy: 0.4487\n",
      "Epoch 9/10\n",
      "782/782 [==============================] - 3s 3ms/step - loss: 1.5384 - accuracy: 0.4501 - val_loss: 1.5200 - val_accuracy: 0.4562\n",
      "Epoch 10/10\n",
      "782/782 [==============================] - 3s 3ms/step - loss: 1.5228 - accuracy: 0.4550 - val_loss: 1.5199 - val_accuracy: 0.4591\n"
     ]
    }
   ],
   "source": [
    "history_4 = model_4.fit(X_train, y_train,\n",
    "                        batch_size=batch_size,\n",
    "                        epochs=epochs,\n",
    "                        validation_data=(X_test, y_test))"
   ]
  },
  {
   "cell_type": "code",
   "execution_count": 23,
   "id": "ae87aecc",
   "metadata": {
    "execution": {
     "iopub.execute_input": "2022-11-29T12:00:01.897566Z",
     "iopub.status.busy": "2022-11-29T12:00:01.897165Z",
     "iopub.status.idle": "2022-11-29T12:00:10.569856Z",
     "shell.execute_reply": "2022-11-29T12:00:10.568601Z"
    },
    "papermill": {
     "duration": 8.871093,
     "end_time": "2022-11-29T12:00:10.572293",
     "exception": false,
     "start_time": "2022-11-29T12:00:01.701200",
     "status": "completed"
    },
    "tags": []
   },
   "outputs": [
    {
     "name": "stdout",
     "output_type": "stream",
     "text": [
      "1563/1563 - 3s - loss: 1.4573 - accuracy: 0.4781\n",
      "313/313 - 1s - loss: 1.5199 - accuracy: 0.4591\n",
      "train_loss: 1.4572727680206299, train_accuracy: 0.4780600070953369\n",
      "test_loss: 1.5199074745178223, test_accuracy: 0.45910000801086426\n"
     ]
    }
   ],
   "source": [
    "train_loss, train_m = model_4.evaluate(X_train, y_train, verbose=2)\n",
    "test_loss, test_m = model_4.evaluate(X_test, y_test, verbose=2)\n",
    "print(f'train_loss: {train_loss}, train_accuracy: {train_m}')\n",
    "print(f'test_loss: {test_loss}, test_accuracy: {test_m}')\n",
    "\n",
    "step.append(4)\n",
    "desc.append('Полносвязная сеть')\n",
    "train_acc.append(round(train_m,2))\n",
    "test_acc.append(round(test_m,2))"
   ]
  },
  {
   "cell_type": "code",
   "execution_count": 24,
   "id": "65ab54be",
   "metadata": {
    "execution": {
     "iopub.execute_input": "2022-11-29T12:00:10.981179Z",
     "iopub.status.busy": "2022-11-29T12:00:10.980787Z",
     "iopub.status.idle": "2022-11-29T12:00:11.308044Z",
     "shell.execute_reply": "2022-11-29T12:00:11.307034Z"
    },
    "papermill": {
     "duration": 0.532946,
     "end_time": "2022-11-29T12:00:11.310246",
     "exception": false,
     "start_time": "2022-11-29T12:00:10.777300",
     "status": "completed"
    },
    "tags": []
   },
   "outputs": [
    {
     "data": {
      "image/png": "[encoded data removed]",
      "text/plain": [
       "<Figure size 432x288 with 1 Axes>"
      ]
     },
     "metadata": {
      "needs_background": "light"
     },
     "output_type": "display_data"
    }
   ],
   "source": [
    "N = 25\n",
    "y_p = model_4.predict(X_test[N:N+1])\n",
    "y_t = np.argmax(y_test[N:N+1], axis = 1 )\n",
    "y_i = np.argmax(y_p, axis = 1 )\n",
    "plt.imshow(X_test[N])\n",
    "plt.title(f'это : {classes[y_t[0]]} - опознан как : {classes[y_i[0]]}')\n",
    "plt.show()"
   ]
  },
  {
   "cell_type": "code",
   "execution_count": 25,
   "id": "c0ddb97c",
   "metadata": {
    "execution": {
     "iopub.execute_input": "2022-11-29T12:00:11.727997Z",
     "iopub.status.busy": "2022-11-29T12:00:11.726778Z",
     "iopub.status.idle": "2022-11-29T12:00:11.752886Z",
     "shell.execute_reply": "2022-11-29T12:00:11.751655Z"
    },
    "papermill": {
     "duration": 0.236366,
     "end_time": "2022-11-29T12:00:11.755418",
     "exception": false,
     "start_time": "2022-11-29T12:00:11.519052",
     "status": "completed"
    },
    "tags": []
   },
   "outputs": [
    {
     "data": {
      "text/html": [
       "<div>\n",
       "<style scoped>\n",
       "    .dataframe tbody tr th:only-of-type {\n",
       "        vertical-align: middle;\n",
       "    }\n",
       "\n",
       "    .dataframe tbody tr th {\n",
       "        vertical-align: top;\n",
       "    }\n",
       "\n",
       "    .dataframe thead th {\n",
       "        text-align: right;\n",
       "    }\n",
       "</style>\n",
       "<table border=\"1\" class=\"dataframe\">\n",
       "  <thead>\n",
       "    <tr style=\"text-align: right;\">\n",
       "      <th></th>\n",
       "      <th>step</th>\n",
       "      <th>desc</th>\n",
       "      <th>train_acc</th>\n",
       "      <th>test_acc</th>\n",
       "    </tr>\n",
       "  </thead>\n",
       "  <tbody>\n",
       "    <tr>\n",
       "      <th>0</th>\n",
       "      <td>1</td>\n",
       "      <td>Базовая модель</td>\n",
       "      <td>0.66</td>\n",
       "      <td>test_acc</td>\n",
       "    </tr>\n",
       "    <tr>\n",
       "      <th>1</th>\n",
       "      <td>2</td>\n",
       "      <td>Шире - больше каналов</td>\n",
       "      <td>0.73</td>\n",
       "      <td>0.64</td>\n",
       "    </tr>\n",
       "    <tr>\n",
       "      <th>2</th>\n",
       "      <td>3</td>\n",
       "      <td>Глубже - больше слоев</td>\n",
       "      <td>0.76</td>\n",
       "      <td>0.7</td>\n",
       "    </tr>\n",
       "    <tr>\n",
       "      <th>3</th>\n",
       "      <td>4</td>\n",
       "      <td>Полносвязная сеть</td>\n",
       "      <td>0.48</td>\n",
       "      <td>0.46</td>\n",
       "    </tr>\n",
       "  </tbody>\n",
       "</table>\n",
       "</div>"
      ],
      "text/plain": [
       "   step                   desc  train_acc  test_acc\n",
       "0     1         Базовая модель       0.66  test_acc\n",
       "1     2  Шире - больше каналов       0.73      0.64\n",
       "2     3  Глубже - больше слоев       0.76       0.7\n",
       "3     4      Полносвязная сеть       0.48      0.46"
      ]
     },
     "execution_count": 25,
     "metadata": {},
     "output_type": "execute_result"
    }
   ],
   "source": [
    "results['step'] = step\n",
    "results['desc'] = desc\n",
    "results['train_acc'] = train_acc\n",
    "results['test_acc'] = test_acc\n",
    "results"
   ]
  },
  {
   "cell_type": "markdown",
   "id": "940b3805",
   "metadata": {
    "papermill": {
     "duration": 0.199947,
     "end_time": "2022-11-29T12:00:12.163142",
     "exception": false,
     "start_time": "2022-11-29T12:00:11.963195",
     "status": "completed"
    },
    "tags": []
   },
   "source": [
    "### Вывод:\n",
    "\n",
    "Базовая модель показала результаты: 0.66 0.65 (трейн/тест)\n",
    "\n",
    "Увеличение количества каналов дало улучшение результатов до 0.72 0.70 (трейн/тест)\n",
    "\n",
    "Увеличение числа слоев дало лучшее увеличение точности 0.75 0.72 (трейн/тест)\n",
    "\n",
    "Полносвязная сеть дала результат хуже базовой модели 0.49 0.47 (трейн/тест)"
   ]
  }
 ],
 "metadata": {
  "kernelspec": {
   "display_name": "Python 3",
   "language": "python",
   "name": "python3"
  },
  "language_info": {
   "codemirror_mode": {
    "name": "ipython",
    "version": 3
   },
   "file_extension": ".py",
   "mimetype": "text/x-python",
   "name": "python",
   "nbconvert_exporter": "python",
   "pygments_lexer": "ipython3",
   "version": "3.7.12"
  },
  "papermill": {
   "default_parameters": {},
   "duration": 315.57598,
   "end_time": "2022-11-29T12:00:15.847280",
   "environment_variables": {},
   "exception": null,
   "input_path": "__notebook__.ipynb",
   "output_path": "__notebook__.ipynb",
   "parameters": {},
   "start_time": "2022-11-29T11:55:00.271300",
   "version": "2.3.4"
  }
 },
 "nbformat": 4,
 "nbformat_minor": 5
}
